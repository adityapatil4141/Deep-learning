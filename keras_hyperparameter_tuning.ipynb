{
  "nbformat": 4,
  "nbformat_minor": 0,
  "metadata": {
    "colab": {
      "provenance": [],
      "collapsed_sections": [
        "lAfxfje3O7Nf",
        "4abHbcFzOx6A",
        "lEQp4KNHR7bZ",
        "iS4PnHIhR9JG",
        "7sBr9uNKWQwu",
        "xwIqWcvzYn9H"
      ],
      "mount_file_id": "1SSfIQ40SRKOh0liAFLPGS_8VDgx8u-Mj",
      "authorship_tag": "ABX9TyMdsOxtITCMQ6Nl9SXDy594",
      "include_colab_link": true
    },
    "kernelspec": {
      "name": "python3",
      "display_name": "Python 3"
    },
    "language_info": {
      "name": "python"
    }
  },
  "cells": [
    {
      "cell_type": "markdown",
      "metadata": {
        "id": "view-in-github",
        "colab_type": "text"
      },
      "source": [
        "<a href=\"https://colab.research.google.com/github/adityapatil4141/Deep-learning/blob/main/keras_hyperparameter_tuning.ipynb\" target=\"_parent\"><img src=\"https://colab.research.google.com/assets/colab-badge.svg\" alt=\"Open In Colab\"/></a>"
      ]
    },
    {
      "cell_type": "markdown",
      "source": [
        "# Data importing"
      ],
      "metadata": {
        "id": "lAfxfje3O7Nf"
      }
    },
    {
      "cell_type": "code",
      "execution_count": 3,
      "metadata": {
        "id": "uoIVjgrrLRkX"
      },
      "outputs": [],
      "source": [
        "# Importing basic necessary libraries\n",
        "import pandas as pd\n",
        "import numpy as np\n",
        "import matplotlib.pyplot as plt\n",
        "import seaborn as sns\n"
      ]
    },
    {
      "cell_type": "code",
      "source": [
        "# Importing dataset\n",
        "df = pd.read_csv(\"/content/drive/MyDrive/work files /diabetes.csv\")"
      ],
      "metadata": {
        "id": "sCUL-D80LdCI"
      },
      "execution_count": 4,
      "outputs": []
    },
    {
      "cell_type": "code",
      "source": [
        "# Dataset look\n",
        "df.head()"
      ],
      "metadata": {
        "colab": {
          "base_uri": "https://localhost:8080/",
          "height": 204
        },
        "id": "R8BCzQlLLxZz",
        "outputId": "acb2820c-68a6-4989-c02e-c083d0246a65"
      },
      "execution_count": 5,
      "outputs": [
        {
          "output_type": "execute_result",
          "data": {
            "text/plain": [
              "   Pregnancies  Glucose  BloodPressure  SkinThickness  Insulin   BMI  \\\n",
              "0            6      148             72             35        0  33.6   \n",
              "1            1       85             66             29        0  26.6   \n",
              "2            8      183             64              0        0  23.3   \n",
              "3            1       89             66             23       94  28.1   \n",
              "4            0      137             40             35      168  43.1   \n",
              "\n",
              "   DiabetesPedigreeFunction  Age  Outcome  \n",
              "0                     0.627   50        1  \n",
              "1                     0.351   31        0  \n",
              "2                     0.672   32        1  \n",
              "3                     0.167   21        0  \n",
              "4                     2.288   33        1  "
            ],
            "text/html": [
              "\n",
              "  <div id=\"df-08e7af9c-5800-45eb-ad0f-55b2555b3621\" class=\"colab-df-container\">\n",
              "    <div>\n",
              "<style scoped>\n",
              "    .dataframe tbody tr th:only-of-type {\n",
              "        vertical-align: middle;\n",
              "    }\n",
              "\n",
              "    .dataframe tbody tr th {\n",
              "        vertical-align: top;\n",
              "    }\n",
              "\n",
              "    .dataframe thead th {\n",
              "        text-align: right;\n",
              "    }\n",
              "</style>\n",
              "<table border=\"1\" class=\"dataframe\">\n",
              "  <thead>\n",
              "    <tr style=\"text-align: right;\">\n",
              "      <th></th>\n",
              "      <th>Pregnancies</th>\n",
              "      <th>Glucose</th>\n",
              "      <th>BloodPressure</th>\n",
              "      <th>SkinThickness</th>\n",
              "      <th>Insulin</th>\n",
              "      <th>BMI</th>\n",
              "      <th>DiabetesPedigreeFunction</th>\n",
              "      <th>Age</th>\n",
              "      <th>Outcome</th>\n",
              "    </tr>\n",
              "  </thead>\n",
              "  <tbody>\n",
              "    <tr>\n",
              "      <th>0</th>\n",
              "      <td>6</td>\n",
              "      <td>148</td>\n",
              "      <td>72</td>\n",
              "      <td>35</td>\n",
              "      <td>0</td>\n",
              "      <td>33.6</td>\n",
              "      <td>0.627</td>\n",
              "      <td>50</td>\n",
              "      <td>1</td>\n",
              "    </tr>\n",
              "    <tr>\n",
              "      <th>1</th>\n",
              "      <td>1</td>\n",
              "      <td>85</td>\n",
              "      <td>66</td>\n",
              "      <td>29</td>\n",
              "      <td>0</td>\n",
              "      <td>26.6</td>\n",
              "      <td>0.351</td>\n",
              "      <td>31</td>\n",
              "      <td>0</td>\n",
              "    </tr>\n",
              "    <tr>\n",
              "      <th>2</th>\n",
              "      <td>8</td>\n",
              "      <td>183</td>\n",
              "      <td>64</td>\n",
              "      <td>0</td>\n",
              "      <td>0</td>\n",
              "      <td>23.3</td>\n",
              "      <td>0.672</td>\n",
              "      <td>32</td>\n",
              "      <td>1</td>\n",
              "    </tr>\n",
              "    <tr>\n",
              "      <th>3</th>\n",
              "      <td>1</td>\n",
              "      <td>89</td>\n",
              "      <td>66</td>\n",
              "      <td>23</td>\n",
              "      <td>94</td>\n",
              "      <td>28.1</td>\n",
              "      <td>0.167</td>\n",
              "      <td>21</td>\n",
              "      <td>0</td>\n",
              "    </tr>\n",
              "    <tr>\n",
              "      <th>4</th>\n",
              "      <td>0</td>\n",
              "      <td>137</td>\n",
              "      <td>40</td>\n",
              "      <td>35</td>\n",
              "      <td>168</td>\n",
              "      <td>43.1</td>\n",
              "      <td>2.288</td>\n",
              "      <td>33</td>\n",
              "      <td>1</td>\n",
              "    </tr>\n",
              "  </tbody>\n",
              "</table>\n",
              "</div>\n",
              "    <div class=\"colab-df-buttons\">\n",
              "\n",
              "  <div class=\"colab-df-container\">\n",
              "    <button class=\"colab-df-convert\" onclick=\"convertToInteractive('df-08e7af9c-5800-45eb-ad0f-55b2555b3621')\"\n",
              "            title=\"Convert this dataframe to an interactive table.\"\n",
              "            style=\"display:none;\">\n",
              "\n",
              "  <svg xmlns=\"http://www.w3.org/2000/svg\" height=\"24px\" viewBox=\"0 -960 960 960\">\n",
              "    <path d=\"M120-120v-720h720v720H120Zm60-500h600v-160H180v160Zm220 220h160v-160H400v160Zm0 220h160v-160H400v160ZM180-400h160v-160H180v160Zm440 0h160v-160H620v160ZM180-180h160v-160H180v160Zm440 0h160v-160H620v160Z\"/>\n",
              "  </svg>\n",
              "    </button>\n",
              "\n",
              "  <style>\n",
              "    .colab-df-container {\n",
              "      display:flex;\n",
              "      gap: 12px;\n",
              "    }\n",
              "\n",
              "    .colab-df-convert {\n",
              "      background-color: #E8F0FE;\n",
              "      border: none;\n",
              "      border-radius: 50%;\n",
              "      cursor: pointer;\n",
              "      display: none;\n",
              "      fill: #1967D2;\n",
              "      height: 32px;\n",
              "      padding: 0 0 0 0;\n",
              "      width: 32px;\n",
              "    }\n",
              "\n",
              "    .colab-df-convert:hover {\n",
              "      background-color: #E2EBFA;\n",
              "      box-shadow: 0px 1px 2px rgba(60, 64, 67, 0.3), 0px 1px 3px 1px rgba(60, 64, 67, 0.15);\n",
              "      fill: #174EA6;\n",
              "    }\n",
              "\n",
              "    .colab-df-buttons div {\n",
              "      margin-bottom: 4px;\n",
              "    }\n",
              "\n",
              "    [theme=dark] .colab-df-convert {\n",
              "      background-color: #3B4455;\n",
              "      fill: #D2E3FC;\n",
              "    }\n",
              "\n",
              "    [theme=dark] .colab-df-convert:hover {\n",
              "      background-color: #434B5C;\n",
              "      box-shadow: 0px 1px 3px 1px rgba(0, 0, 0, 0.15);\n",
              "      filter: drop-shadow(0px 1px 2px rgba(0, 0, 0, 0.3));\n",
              "      fill: #FFFFFF;\n",
              "    }\n",
              "  </style>\n",
              "\n",
              "    <script>\n",
              "      const buttonEl =\n",
              "        document.querySelector('#df-08e7af9c-5800-45eb-ad0f-55b2555b3621 button.colab-df-convert');\n",
              "      buttonEl.style.display =\n",
              "        google.colab.kernel.accessAllowed ? 'block' : 'none';\n",
              "\n",
              "      async function convertToInteractive(key) {\n",
              "        const element = document.querySelector('#df-08e7af9c-5800-45eb-ad0f-55b2555b3621');\n",
              "        const dataTable =\n",
              "          await google.colab.kernel.invokeFunction('convertToInteractive',\n",
              "                                                    [key], {});\n",
              "        if (!dataTable) return;\n",
              "\n",
              "        const docLinkHtml = 'Like what you see? Visit the ' +\n",
              "          '<a target=\"_blank\" href=https://colab.research.google.com/notebooks/data_table.ipynb>data table notebook</a>'\n",
              "          + ' to learn more about interactive tables.';\n",
              "        element.innerHTML = '';\n",
              "        dataTable['output_type'] = 'display_data';\n",
              "        await google.colab.output.renderOutput(dataTable, element);\n",
              "        const docLink = document.createElement('div');\n",
              "        docLink.innerHTML = docLinkHtml;\n",
              "        element.appendChild(docLink);\n",
              "      }\n",
              "    </script>\n",
              "  </div>\n",
              "\n",
              "\n",
              "<div id=\"df-3b15a2e3-0947-4fae-b2e9-8b28809f8907\">\n",
              "  <button class=\"colab-df-quickchart\" onclick=\"quickchart('df-3b15a2e3-0947-4fae-b2e9-8b28809f8907')\"\n",
              "            title=\"Suggest charts\"\n",
              "            style=\"display:none;\">\n",
              "\n",
              "<svg xmlns=\"http://www.w3.org/2000/svg\" height=\"24px\"viewBox=\"0 0 24 24\"\n",
              "     width=\"24px\">\n",
              "    <g>\n",
              "        <path d=\"M19 3H5c-1.1 0-2 .9-2 2v14c0 1.1.9 2 2 2h14c1.1 0 2-.9 2-2V5c0-1.1-.9-2-2-2zM9 17H7v-7h2v7zm4 0h-2V7h2v10zm4 0h-2v-4h2v4z\"/>\n",
              "    </g>\n",
              "</svg>\n",
              "  </button>\n",
              "\n",
              "<style>\n",
              "  .colab-df-quickchart {\n",
              "      --bg-color: #E8F0FE;\n",
              "      --fill-color: #1967D2;\n",
              "      --hover-bg-color: #E2EBFA;\n",
              "      --hover-fill-color: #174EA6;\n",
              "      --disabled-fill-color: #AAA;\n",
              "      --disabled-bg-color: #DDD;\n",
              "  }\n",
              "\n",
              "  [theme=dark] .colab-df-quickchart {\n",
              "      --bg-color: #3B4455;\n",
              "      --fill-color: #D2E3FC;\n",
              "      --hover-bg-color: #434B5C;\n",
              "      --hover-fill-color: #FFFFFF;\n",
              "      --disabled-bg-color: #3B4455;\n",
              "      --disabled-fill-color: #666;\n",
              "  }\n",
              "\n",
              "  .colab-df-quickchart {\n",
              "    background-color: var(--bg-color);\n",
              "    border: none;\n",
              "    border-radius: 50%;\n",
              "    cursor: pointer;\n",
              "    display: none;\n",
              "    fill: var(--fill-color);\n",
              "    height: 32px;\n",
              "    padding: 0;\n",
              "    width: 32px;\n",
              "  }\n",
              "\n",
              "  .colab-df-quickchart:hover {\n",
              "    background-color: var(--hover-bg-color);\n",
              "    box-shadow: 0 1px 2px rgba(60, 64, 67, 0.3), 0 1px 3px 1px rgba(60, 64, 67, 0.15);\n",
              "    fill: var(--button-hover-fill-color);\n",
              "  }\n",
              "\n",
              "  .colab-df-quickchart-complete:disabled,\n",
              "  .colab-df-quickchart-complete:disabled:hover {\n",
              "    background-color: var(--disabled-bg-color);\n",
              "    fill: var(--disabled-fill-color);\n",
              "    box-shadow: none;\n",
              "  }\n",
              "\n",
              "  .colab-df-spinner {\n",
              "    border: 2px solid var(--fill-color);\n",
              "    border-color: transparent;\n",
              "    border-bottom-color: var(--fill-color);\n",
              "    animation:\n",
              "      spin 1s steps(1) infinite;\n",
              "  }\n",
              "\n",
              "  @keyframes spin {\n",
              "    0% {\n",
              "      border-color: transparent;\n",
              "      border-bottom-color: var(--fill-color);\n",
              "      border-left-color: var(--fill-color);\n",
              "    }\n",
              "    20% {\n",
              "      border-color: transparent;\n",
              "      border-left-color: var(--fill-color);\n",
              "      border-top-color: var(--fill-color);\n",
              "    }\n",
              "    30% {\n",
              "      border-color: transparent;\n",
              "      border-left-color: var(--fill-color);\n",
              "      border-top-color: var(--fill-color);\n",
              "      border-right-color: var(--fill-color);\n",
              "    }\n",
              "    40% {\n",
              "      border-color: transparent;\n",
              "      border-right-color: var(--fill-color);\n",
              "      border-top-color: var(--fill-color);\n",
              "    }\n",
              "    60% {\n",
              "      border-color: transparent;\n",
              "      border-right-color: var(--fill-color);\n",
              "    }\n",
              "    80% {\n",
              "      border-color: transparent;\n",
              "      border-right-color: var(--fill-color);\n",
              "      border-bottom-color: var(--fill-color);\n",
              "    }\n",
              "    90% {\n",
              "      border-color: transparent;\n",
              "      border-bottom-color: var(--fill-color);\n",
              "    }\n",
              "  }\n",
              "</style>\n",
              "\n",
              "  <script>\n",
              "    async function quickchart(key) {\n",
              "      const quickchartButtonEl =\n",
              "        document.querySelector('#' + key + ' button');\n",
              "      quickchartButtonEl.disabled = true;  // To prevent multiple clicks.\n",
              "      quickchartButtonEl.classList.add('colab-df-spinner');\n",
              "      try {\n",
              "        const charts = await google.colab.kernel.invokeFunction(\n",
              "            'suggestCharts', [key], {});\n",
              "      } catch (error) {\n",
              "        console.error('Error during call to suggestCharts:', error);\n",
              "      }\n",
              "      quickchartButtonEl.classList.remove('colab-df-spinner');\n",
              "      quickchartButtonEl.classList.add('colab-df-quickchart-complete');\n",
              "    }\n",
              "    (() => {\n",
              "      let quickchartButtonEl =\n",
              "        document.querySelector('#df-3b15a2e3-0947-4fae-b2e9-8b28809f8907 button');\n",
              "      quickchartButtonEl.style.display =\n",
              "        google.colab.kernel.accessAllowed ? 'block' : 'none';\n",
              "    })();\n",
              "  </script>\n",
              "</div>\n",
              "\n",
              "    </div>\n",
              "  </div>\n"
            ],
            "application/vnd.google.colaboratory.intrinsic+json": {
              "type": "dataframe",
              "variable_name": "df",
              "summary": "{\n  \"name\": \"df\",\n  \"rows\": 768,\n  \"fields\": [\n    {\n      \"column\": \"Pregnancies\",\n      \"properties\": {\n        \"dtype\": \"number\",\n        \"std\": 3,\n        \"min\": 0,\n        \"max\": 17,\n        \"num_unique_values\": 17,\n        \"samples\": [\n          6,\n          1,\n          3\n        ],\n        \"semantic_type\": \"\",\n        \"description\": \"\"\n      }\n    },\n    {\n      \"column\": \"Glucose\",\n      \"properties\": {\n        \"dtype\": \"number\",\n        \"std\": 31,\n        \"min\": 0,\n        \"max\": 199,\n        \"num_unique_values\": 136,\n        \"samples\": [\n          151,\n          101,\n          112\n        ],\n        \"semantic_type\": \"\",\n        \"description\": \"\"\n      }\n    },\n    {\n      \"column\": \"BloodPressure\",\n      \"properties\": {\n        \"dtype\": \"number\",\n        \"std\": 19,\n        \"min\": 0,\n        \"max\": 122,\n        \"num_unique_values\": 47,\n        \"samples\": [\n          86,\n          46,\n          85\n        ],\n        \"semantic_type\": \"\",\n        \"description\": \"\"\n      }\n    },\n    {\n      \"column\": \"SkinThickness\",\n      \"properties\": {\n        \"dtype\": \"number\",\n        \"std\": 15,\n        \"min\": 0,\n        \"max\": 99,\n        \"num_unique_values\": 51,\n        \"samples\": [\n          7,\n          12,\n          48\n        ],\n        \"semantic_type\": \"\",\n        \"description\": \"\"\n      }\n    },\n    {\n      \"column\": \"Insulin\",\n      \"properties\": {\n        \"dtype\": \"number\",\n        \"std\": 115,\n        \"min\": 0,\n        \"max\": 846,\n        \"num_unique_values\": 186,\n        \"samples\": [\n          52,\n          41,\n          183\n        ],\n        \"semantic_type\": \"\",\n        \"description\": \"\"\n      }\n    },\n    {\n      \"column\": \"BMI\",\n      \"properties\": {\n        \"dtype\": \"number\",\n        \"std\": 7.884160320375446,\n        \"min\": 0.0,\n        \"max\": 67.1,\n        \"num_unique_values\": 248,\n        \"samples\": [\n          19.9,\n          31.0,\n          38.1\n        ],\n        \"semantic_type\": \"\",\n        \"description\": \"\"\n      }\n    },\n    {\n      \"column\": \"DiabetesPedigreeFunction\",\n      \"properties\": {\n        \"dtype\": \"number\",\n        \"std\": 0.3313285950127749,\n        \"min\": 0.078,\n        \"max\": 2.42,\n        \"num_unique_values\": 517,\n        \"samples\": [\n          1.731,\n          0.426,\n          0.138\n        ],\n        \"semantic_type\": \"\",\n        \"description\": \"\"\n      }\n    },\n    {\n      \"column\": \"Age\",\n      \"properties\": {\n        \"dtype\": \"number\",\n        \"std\": 11,\n        \"min\": 21,\n        \"max\": 81,\n        \"num_unique_values\": 52,\n        \"samples\": [\n          60,\n          47,\n          72\n        ],\n        \"semantic_type\": \"\",\n        \"description\": \"\"\n      }\n    },\n    {\n      \"column\": \"Outcome\",\n      \"properties\": {\n        \"dtype\": \"number\",\n        \"std\": 0,\n        \"min\": 0,\n        \"max\": 1,\n        \"num_unique_values\": 2,\n        \"samples\": [\n          0,\n          1\n        ],\n        \"semantic_type\": \"\",\n        \"description\": \"\"\n      }\n    }\n  ]\n}"
            }
          },
          "metadata": {},
          "execution_count": 5
        }
      ]
    },
    {
      "cell_type": "code",
      "source": [
        "# Dataset coorelation\n",
        "df.corr()['Outcome']"
      ],
      "metadata": {
        "colab": {
          "base_uri": "https://localhost:8080/"
        },
        "id": "3K5mTaAzLyzz",
        "outputId": "b9d7d7d9-1584-444b-ecf0-01fb0b93891c"
      },
      "execution_count": 6,
      "outputs": [
        {
          "output_type": "execute_result",
          "data": {
            "text/plain": [
              "Pregnancies                 0.221898\n",
              "Glucose                     0.466581\n",
              "BloodPressure               0.065068\n",
              "SkinThickness               0.074752\n",
              "Insulin                     0.130548\n",
              "BMI                         0.292695\n",
              "DiabetesPedigreeFunction    0.173844\n",
              "Age                         0.238356\n",
              "Outcome                     1.000000\n",
              "Name: Outcome, dtype: float64"
            ]
          },
          "metadata": {},
          "execution_count": 6
        }
      ]
    },
    {
      "cell_type": "code",
      "source": [
        "# Splitting dataset in x and y\n",
        "x = df.drop(columns=['Outcome']).values\n",
        "y = df['Outcome'].values\n"
      ],
      "metadata": {
        "id": "K0NYwX8cMC35"
      },
      "execution_count": 7,
      "outputs": []
    },
    {
      "cell_type": "code",
      "source": [
        "# Scaling x data\n",
        "from sklearn.preprocessing import StandardScaler\n",
        "scaler = StandardScaler()\n",
        "x = scaler.fit_transform(x)"
      ],
      "metadata": {
        "id": "zEk9Nq5c0pnI"
      },
      "execution_count": 8,
      "outputs": []
    },
    {
      "cell_type": "code",
      "source": [
        "# x shape\n",
        "x.shape"
      ],
      "metadata": {
        "colab": {
          "base_uri": "https://localhost:8080/"
        },
        "id": "tMR8Hw4F08re",
        "outputId": "1041cb7d-fd4c-4869-89f3-75eb434b45da"
      },
      "execution_count": 9,
      "outputs": [
        {
          "output_type": "execute_result",
          "data": {
            "text/plain": [
              "(768, 8)"
            ]
          },
          "metadata": {},
          "execution_count": 9
        }
      ]
    },
    {
      "cell_type": "code",
      "source": [
        "# splitting dataset in training and testing dataset\n",
        "from sklearn.model_selection import train_test_split\n",
        "x_train,x_test,y_train,y_test = train_test_split(x,y,test_size=0.2,random_state=1)"
      ],
      "metadata": {
        "id": "l1aJEUPe1PIk"
      },
      "execution_count": 10,
      "outputs": []
    },
    {
      "cell_type": "markdown",
      "source": [
        "# basic model without hyperparameter tuning"
      ],
      "metadata": {
        "id": "4abHbcFzOx6A"
      }
    },
    {
      "cell_type": "code",
      "source": [
        "# Importing libraries\n",
        "import tensorflow\n",
        "from tensorflow import keras\n",
        "from keras import Sequential\n",
        "from keras.layers import Dense,Dropout"
      ],
      "metadata": {
        "id": "pSc1Bw2YELlq"
      },
      "execution_count": 11,
      "outputs": []
    },
    {
      "cell_type": "code",
      "source": [
        "# Building model\n",
        "model = Sequential()\n",
        "\n",
        "model.add(Dense(32,activation='relu',input_dim=8))\n",
        "model.add(Dense(1,activation='sigmoid'))\n",
        "\n",
        "model.compile(optimizer='adam',loss='binary_crossentropy',metrics=['accuracy'])"
      ],
      "metadata": {
        "id": "Jo8c_akQEns_"
      },
      "execution_count": 12,
      "outputs": []
    },
    {
      "cell_type": "code",
      "source": [
        "# Fitting model\n",
        "model.fit(x_train,y_train,batch_size=32,epochs=10,validation_data=(x_test,y_test))"
      ],
      "metadata": {
        "colab": {
          "base_uri": "https://localhost:8080/"
        },
        "id": "7q0gGz32E-pb",
        "outputId": "795a2188-8ac4-4e97-802e-948f39b8f5a5"
      },
      "execution_count": 13,
      "outputs": [
        {
          "output_type": "stream",
          "name": "stdout",
          "text": [
            "Epoch 1/10\n",
            "20/20 [==============================] - 2s 30ms/step - loss: 0.7096 - accuracy: 0.5277 - val_loss: 0.6540 - val_accuracy: 0.6039\n",
            "Epoch 2/10\n",
            "20/20 [==============================] - 0s 8ms/step - loss: 0.6549 - accuracy: 0.6596 - val_loss: 0.6127 - val_accuracy: 0.7273\n",
            "Epoch 3/10\n",
            "20/20 [==============================] - 0s 9ms/step - loss: 0.6166 - accuracy: 0.7068 - val_loss: 0.5811 - val_accuracy: 0.7532\n",
            "Epoch 4/10\n",
            "20/20 [==============================] - 0s 8ms/step - loss: 0.5878 - accuracy: 0.7345 - val_loss: 0.5580 - val_accuracy: 0.7727\n",
            "Epoch 5/10\n",
            "20/20 [==============================] - 0s 8ms/step - loss: 0.5644 - accuracy: 0.7459 - val_loss: 0.5379 - val_accuracy: 0.7857\n",
            "Epoch 6/10\n",
            "20/20 [==============================] - 0s 8ms/step - loss: 0.5448 - accuracy: 0.7508 - val_loss: 0.5226 - val_accuracy: 0.7987\n",
            "Epoch 7/10\n",
            "20/20 [==============================] - 0s 7ms/step - loss: 0.5290 - accuracy: 0.7557 - val_loss: 0.5099 - val_accuracy: 0.8052\n",
            "Epoch 8/10\n",
            "20/20 [==============================] - 0s 8ms/step - loss: 0.5161 - accuracy: 0.7655 - val_loss: 0.4999 - val_accuracy: 0.8052\n",
            "Epoch 9/10\n",
            "20/20 [==============================] - 0s 10ms/step - loss: 0.5049 - accuracy: 0.7638 - val_loss: 0.4918 - val_accuracy: 0.7987\n",
            "Epoch 10/10\n",
            "20/20 [==============================] - 0s 10ms/step - loss: 0.4960 - accuracy: 0.7638 - val_loss: 0.4842 - val_accuracy: 0.8052\n"
          ]
        },
        {
          "output_type": "execute_result",
          "data": {
            "text/plain": [
              "<keras.src.callbacks.History at 0x7aee84601ae0>"
            ]
          },
          "metadata": {},
          "execution_count": 13
        }
      ]
    },
    {
      "cell_type": "code",
      "source": [
        "#accuracy=80%"
      ],
      "metadata": {
        "id": "umyAyFnVO2fF"
      },
      "execution_count": null,
      "outputs": []
    },
    {
      "cell_type": "code",
      "source": [
        "# Install keras tuner\n",
        "# Keras tuner is a library which help in hyperparameter tuning\n",
        "!pip install -U keras-tuner"
      ],
      "metadata": {
        "id": "1d7V9xeRFFW1",
        "colab": {
          "base_uri": "https://localhost:8080/"
        },
        "outputId": "c360bbb0-0fda-475c-915a-1ee0a9f9237b"
      },
      "execution_count": 14,
      "outputs": [
        {
          "output_type": "stream",
          "name": "stdout",
          "text": [
            "Collecting keras-tuner\n",
            "  Downloading keras_tuner-1.4.7-py3-none-any.whl (129 kB)\n",
            "\u001b[2K     \u001b[90m━━━━━━━━━━━━━━━━━━━━━━━━━━━━━━━━━━━━━━━━\u001b[0m \u001b[32m129.1/129.1 kB\u001b[0m \u001b[31m2.6 MB/s\u001b[0m eta \u001b[36m0:00:00\u001b[0m\n",
            "\u001b[?25hRequirement already satisfied: keras in /usr/local/lib/python3.10/dist-packages (from keras-tuner) (2.15.0)\n",
            "Requirement already satisfied: packaging in /usr/local/lib/python3.10/dist-packages (from keras-tuner) (24.0)\n",
            "Requirement already satisfied: requests in /usr/local/lib/python3.10/dist-packages (from keras-tuner) (2.31.0)\n",
            "Collecting kt-legacy (from keras-tuner)\n",
            "  Downloading kt_legacy-1.0.5-py3-none-any.whl (9.6 kB)\n",
            "Requirement already satisfied: charset-normalizer<4,>=2 in /usr/local/lib/python3.10/dist-packages (from requests->keras-tuner) (3.3.2)\n",
            "Requirement already satisfied: idna<4,>=2.5 in /usr/local/lib/python3.10/dist-packages (from requests->keras-tuner) (3.6)\n",
            "Requirement already satisfied: urllib3<3,>=1.21.1 in /usr/local/lib/python3.10/dist-packages (from requests->keras-tuner) (2.0.7)\n",
            "Requirement already satisfied: certifi>=2017.4.17 in /usr/local/lib/python3.10/dist-packages (from requests->keras-tuner) (2024.2.2)\n",
            "Installing collected packages: kt-legacy, keras-tuner\n",
            "Successfully installed keras-tuner-1.4.7 kt-legacy-1.0.5\n"
          ]
        }
      ]
    },
    {
      "cell_type": "code",
      "source": [
        "# Importing kerastuner library\n",
        "import kerastuner as kt"
      ],
      "metadata": {
        "id": "ECnUBBdq4T1b",
        "colab": {
          "base_uri": "https://localhost:8080/"
        },
        "outputId": "4be5d929-f5a3-42de-a7f8-4a112d61e1c1"
      },
      "execution_count": 15,
      "outputs": [
        {
          "output_type": "stream",
          "name": "stderr",
          "text": [
            "<ipython-input-15-faf94310e1d7>:2: DeprecationWarning: `import kerastuner` is deprecated, please use `import keras_tuner`.\n",
            "  import kerastuner as kt\n"
          ]
        }
      ]
    },
    {
      "cell_type": "markdown",
      "source": [
        "# Hyperparameter tuning for best optimizer"
      ],
      "metadata": {
        "id": "lEQp4KNHR7bZ"
      }
    },
    {
      "cell_type": "code",
      "source": [
        "# This code snippet is used if the tuner.search is giving this output \"./untitled_project/tuner0.json' \"\n",
        "# whenever we use\n",
        "import os\n",
        "\n",
        "if os.path.exists('./untitled_project/tuner0.json'):\n",
        "  os.remove('./untitled_project/tuner0.json')  # Remove tuner state file\n"
      ],
      "metadata": {
        "id": "67xU4BSZQG8i"
      },
      "execution_count": 16,
      "outputs": []
    },
    {
      "cell_type": "code",
      "source": [
        "# Hyperparameter tuning for best optimizer"
      ],
      "metadata": {
        "id": "XqDqav_kR28j"
      },
      "execution_count": 17,
      "outputs": []
    },
    {
      "cell_type": "code",
      "source": [
        "# building a function. with \"hyperparameter = hp\" as parameter\n",
        "def build_model(hp):\n",
        "  model2 = Sequential()\n",
        "\n",
        "  model2.add(Dense(32,activation='relu',input_dim=8))\n",
        "  model2.add(Dense(1,activation='sigmoid'))\n",
        "\n",
        "  model2.compile(loss='binary_crossentropy',optimizer = hp.Choice('optimizer',values=['adam','rmsprop','adadelta','sgd']),metrics=['accuracy'])\n",
        "  # Above hp.choice will random values and build model.\n",
        "  # hp here is function parameter, 'optimizer' is any string and values=[] is list of optimizer which you want model to check\n",
        "  return model2\n",
        "  # Return model\n",
        "\n"
      ],
      "metadata": {
        "id": "c-RJWa9l5IWd"
      },
      "execution_count": 18,
      "outputs": []
    },
    {
      "cell_type": "code",
      "source": [
        "# Importing RandomSearch from kerastuner, Workds like gridsearchcv\n",
        "from kerastuner.tuners import RandomSearch"
      ],
      "metadata": {
        "id": "QG-bAh6pO0sW"
      },
      "execution_count": 19,
      "outputs": []
    },
    {
      "cell_type": "code",
      "source": [
        "# RandomSearch takes, build_model(Function), objective(what we want to reduce/increase), max_trials= how many times we will interate over model\n",
        "tuner = kt.RandomSearch(build_model,objective='val_accuracy',max_trials=5)"
      ],
      "metadata": {
        "id": "Noar6jUqND4u"
      },
      "execution_count": 20,
      "outputs": []
    },
    {
      "cell_type": "code",
      "source": [
        "# search here is a future of tuner object.\n",
        "# tuner.search helps to search best hyperparameter\n",
        "tuner.search(x_train,y_train,validation_data=(x_test,y_test),epochs=5)"
      ],
      "metadata": {
        "colab": {
          "base_uri": "https://localhost:8080/"
        },
        "id": "z-V-TAYLNQPe",
        "outputId": "bbe6f5c9-f3a7-4696-b26a-96fa009e2683"
      },
      "execution_count": 21,
      "outputs": [
        {
          "output_type": "stream",
          "name": "stdout",
          "text": [
            "Trial 4 Complete [00h 00m 05s]\n",
            "val_accuracy: 0.7727272510528564\n",
            "\n",
            "Best val_accuracy So Far: 0.7727272510528564\n",
            "Total elapsed time: 00h 00m 15s\n"
          ]
        }
      ]
    },
    {
      "cell_type": "code",
      "source": [
        "# Get best hyperparameter\n",
        "tuner.get_best_hyperparameters()[0].values"
      ],
      "metadata": {
        "colab": {
          "base_uri": "https://localhost:8080/"
        },
        "id": "43tzCiXOREV5",
        "outputId": "4c7318ce-6546-436a-c0bb-196d81731971"
      },
      "execution_count": 22,
      "outputs": [
        {
          "output_type": "execute_result",
          "data": {
            "text/plain": [
              "{'optimizer': 'rmsprop'}"
            ]
          },
          "metadata": {},
          "execution_count": 22
        }
      ]
    },
    {
      "cell_type": "code",
      "source": [
        "# Fetching best model\n",
        "model2 = tuner.get_best_models(num_models=1)[0]"
      ],
      "metadata": {
        "id": "JCmxUz8ORM1Q"
      },
      "execution_count": 23,
      "outputs": []
    },
    {
      "cell_type": "code",
      "source": [
        "# model summary\n",
        "model2.summary()"
      ],
      "metadata": {
        "colab": {
          "base_uri": "https://localhost:8080/"
        },
        "id": "rvgsSq00RTrP",
        "outputId": "98ef6a06-ea32-44f6-912c-672b9188feb5"
      },
      "execution_count": 24,
      "outputs": [
        {
          "output_type": "stream",
          "name": "stdout",
          "text": [
            "Model: \"sequential\"\n",
            "_________________________________________________________________\n",
            " Layer (type)                Output Shape              Param #   \n",
            "=================================================================\n",
            " dense (Dense)               (None, 32)                288       \n",
            "                                                                 \n",
            " dense_1 (Dense)             (None, 1)                 33        \n",
            "                                                                 \n",
            "=================================================================\n",
            "Total params: 321 (1.25 KB)\n",
            "Trainable params: 321 (1.25 KB)\n",
            "Non-trainable params: 0 (0.00 Byte)\n",
            "_________________________________________________________________\n"
          ]
        }
      ]
    },
    {
      "cell_type": "code",
      "source": [
        "# Fitting Model\n",
        "# initial_epoch = from where we want to start epochs again, we had 5 epoch in tuner.search so we select 5\n",
        "model2.fit(x_train,y_train,batch_size=32,epochs=100,initial_epoch=5,validation_data=(x_test,y_test))"
      ],
      "metadata": {
        "colab": {
          "base_uri": "https://localhost:8080/"
        },
        "id": "Bw-M_wpzRVrJ",
        "outputId": "d077eafb-dfcd-4c64-f8f6-4a8ce7e3b35f"
      },
      "execution_count": 25,
      "outputs": [
        {
          "output_type": "stream",
          "name": "stdout",
          "text": [
            "Epoch 6/100\n",
            "20/20 [==============================] - 2s 27ms/step - loss: 0.4964 - accuracy: 0.7736 - val_loss: 0.4851 - val_accuracy: 0.7727\n",
            "Epoch 7/100\n",
            "20/20 [==============================] - 0s 9ms/step - loss: 0.4866 - accuracy: 0.7834 - val_loss: 0.4773 - val_accuracy: 0.7727\n",
            "Epoch 8/100\n",
            "20/20 [==============================] - 0s 8ms/step - loss: 0.4792 - accuracy: 0.7736 - val_loss: 0.4718 - val_accuracy: 0.7792\n",
            "Epoch 9/100\n",
            "20/20 [==============================] - 0s 8ms/step - loss: 0.4729 - accuracy: 0.7785 - val_loss: 0.4689 - val_accuracy: 0.7792\n",
            "Epoch 10/100\n",
            "20/20 [==============================] - 0s 7ms/step - loss: 0.4685 - accuracy: 0.7866 - val_loss: 0.4654 - val_accuracy: 0.7922\n",
            "Epoch 11/100\n",
            "20/20 [==============================] - 0s 8ms/step - loss: 0.4650 - accuracy: 0.7866 - val_loss: 0.4641 - val_accuracy: 0.7987\n",
            "Epoch 12/100\n",
            "20/20 [==============================] - 0s 12ms/step - loss: 0.4619 - accuracy: 0.7883 - val_loss: 0.4626 - val_accuracy: 0.7987\n",
            "Epoch 13/100\n",
            "20/20 [==============================] - 0s 17ms/step - loss: 0.4590 - accuracy: 0.7866 - val_loss: 0.4604 - val_accuracy: 0.7987\n",
            "Epoch 14/100\n",
            "20/20 [==============================] - 0s 14ms/step - loss: 0.4566 - accuracy: 0.7883 - val_loss: 0.4601 - val_accuracy: 0.7987\n",
            "Epoch 15/100\n",
            "20/20 [==============================] - 0s 7ms/step - loss: 0.4548 - accuracy: 0.7834 - val_loss: 0.4601 - val_accuracy: 0.8117\n",
            "Epoch 16/100\n",
            "20/20 [==============================] - 0s 6ms/step - loss: 0.4526 - accuracy: 0.7834 - val_loss: 0.4605 - val_accuracy: 0.7987\n",
            "Epoch 17/100\n",
            "20/20 [==============================] - 0s 5ms/step - loss: 0.4514 - accuracy: 0.7866 - val_loss: 0.4594 - val_accuracy: 0.8182\n",
            "Epoch 18/100\n",
            "20/20 [==============================] - 0s 5ms/step - loss: 0.4502 - accuracy: 0.7866 - val_loss: 0.4599 - val_accuracy: 0.8117\n",
            "Epoch 19/100\n",
            "20/20 [==============================] - 0s 5ms/step - loss: 0.4493 - accuracy: 0.7834 - val_loss: 0.4601 - val_accuracy: 0.8117\n",
            "Epoch 20/100\n",
            "20/20 [==============================] - 0s 4ms/step - loss: 0.4478 - accuracy: 0.7866 - val_loss: 0.4591 - val_accuracy: 0.8052\n",
            "Epoch 21/100\n",
            "20/20 [==============================] - 0s 5ms/step - loss: 0.4469 - accuracy: 0.7866 - val_loss: 0.4591 - val_accuracy: 0.8052\n",
            "Epoch 22/100\n",
            "20/20 [==============================] - 0s 4ms/step - loss: 0.4460 - accuracy: 0.7834 - val_loss: 0.4590 - val_accuracy: 0.8052\n",
            "Epoch 23/100\n",
            "20/20 [==============================] - 0s 5ms/step - loss: 0.4454 - accuracy: 0.7785 - val_loss: 0.4585 - val_accuracy: 0.8117\n",
            "Epoch 24/100\n",
            "20/20 [==============================] - 0s 5ms/step - loss: 0.4444 - accuracy: 0.7834 - val_loss: 0.4593 - val_accuracy: 0.8117\n",
            "Epoch 25/100\n",
            "20/20 [==============================] - 0s 6ms/step - loss: 0.4437 - accuracy: 0.7834 - val_loss: 0.4592 - val_accuracy: 0.8117\n",
            "Epoch 26/100\n",
            "20/20 [==============================] - 0s 4ms/step - loss: 0.4428 - accuracy: 0.7785 - val_loss: 0.4590 - val_accuracy: 0.8117\n",
            "Epoch 27/100\n",
            "20/20 [==============================] - 0s 4ms/step - loss: 0.4424 - accuracy: 0.7818 - val_loss: 0.4595 - val_accuracy: 0.8117\n",
            "Epoch 28/100\n",
            "20/20 [==============================] - 0s 5ms/step - loss: 0.4415 - accuracy: 0.7866 - val_loss: 0.4598 - val_accuracy: 0.8117\n",
            "Epoch 29/100\n",
            "20/20 [==============================] - 0s 5ms/step - loss: 0.4408 - accuracy: 0.7850 - val_loss: 0.4588 - val_accuracy: 0.8117\n",
            "Epoch 30/100\n",
            "20/20 [==============================] - 0s 5ms/step - loss: 0.4407 - accuracy: 0.7866 - val_loss: 0.4584 - val_accuracy: 0.8117\n",
            "Epoch 31/100\n",
            "20/20 [==============================] - 0s 4ms/step - loss: 0.4397 - accuracy: 0.7883 - val_loss: 0.4580 - val_accuracy: 0.8117\n",
            "Epoch 32/100\n",
            "20/20 [==============================] - 0s 5ms/step - loss: 0.4395 - accuracy: 0.7866 - val_loss: 0.4580 - val_accuracy: 0.8052\n",
            "Epoch 33/100\n",
            "20/20 [==============================] - 0s 5ms/step - loss: 0.4383 - accuracy: 0.7883 - val_loss: 0.4578 - val_accuracy: 0.7987\n",
            "Epoch 34/100\n",
            "20/20 [==============================] - 0s 5ms/step - loss: 0.4384 - accuracy: 0.7915 - val_loss: 0.4583 - val_accuracy: 0.8117\n",
            "Epoch 35/100\n",
            "20/20 [==============================] - 0s 5ms/step - loss: 0.4377 - accuracy: 0.7883 - val_loss: 0.4583 - val_accuracy: 0.8117\n",
            "Epoch 36/100\n",
            "20/20 [==============================] - 0s 5ms/step - loss: 0.4377 - accuracy: 0.7915 - val_loss: 0.4579 - val_accuracy: 0.8117\n",
            "Epoch 37/100\n",
            "20/20 [==============================] - 0s 4ms/step - loss: 0.4369 - accuracy: 0.7899 - val_loss: 0.4583 - val_accuracy: 0.8117\n",
            "Epoch 38/100\n",
            "20/20 [==============================] - 0s 6ms/step - loss: 0.4365 - accuracy: 0.7915 - val_loss: 0.4586 - val_accuracy: 0.7987\n",
            "Epoch 39/100\n",
            "20/20 [==============================] - 0s 5ms/step - loss: 0.4360 - accuracy: 0.7883 - val_loss: 0.4591 - val_accuracy: 0.7987\n",
            "Epoch 40/100\n",
            "20/20 [==============================] - 0s 4ms/step - loss: 0.4354 - accuracy: 0.7915 - val_loss: 0.4590 - val_accuracy: 0.8052\n",
            "Epoch 41/100\n",
            "20/20 [==============================] - 0s 5ms/step - loss: 0.4351 - accuracy: 0.7915 - val_loss: 0.4592 - val_accuracy: 0.8117\n",
            "Epoch 42/100\n",
            "20/20 [==============================] - 0s 4ms/step - loss: 0.4350 - accuracy: 0.7883 - val_loss: 0.4598 - val_accuracy: 0.7922\n",
            "Epoch 43/100\n",
            "20/20 [==============================] - 0s 16ms/step - loss: 0.4340 - accuracy: 0.7899 - val_loss: 0.4599 - val_accuracy: 0.7922\n",
            "Epoch 44/100\n",
            "20/20 [==============================] - 0s 9ms/step - loss: 0.4341 - accuracy: 0.7850 - val_loss: 0.4589 - val_accuracy: 0.8052\n",
            "Epoch 45/100\n",
            "20/20 [==============================] - 0s 9ms/step - loss: 0.4335 - accuracy: 0.7866 - val_loss: 0.4593 - val_accuracy: 0.8117\n",
            "Epoch 46/100\n",
            "20/20 [==============================] - 0s 8ms/step - loss: 0.4331 - accuracy: 0.7932 - val_loss: 0.4580 - val_accuracy: 0.8117\n",
            "Epoch 47/100\n",
            "20/20 [==============================] - 0s 8ms/step - loss: 0.4324 - accuracy: 0.7948 - val_loss: 0.4574 - val_accuracy: 0.8117\n",
            "Epoch 48/100\n",
            "20/20 [==============================] - 0s 8ms/step - loss: 0.4324 - accuracy: 0.7883 - val_loss: 0.4573 - val_accuracy: 0.8117\n",
            "Epoch 49/100\n",
            "20/20 [==============================] - 0s 9ms/step - loss: 0.4322 - accuracy: 0.7883 - val_loss: 0.4573 - val_accuracy: 0.8117\n",
            "Epoch 50/100\n",
            "20/20 [==============================] - 0s 11ms/step - loss: 0.4315 - accuracy: 0.7932 - val_loss: 0.4569 - val_accuracy: 0.8117\n",
            "Epoch 51/100\n",
            "20/20 [==============================] - 0s 7ms/step - loss: 0.4312 - accuracy: 0.7997 - val_loss: 0.4562 - val_accuracy: 0.8117\n",
            "Epoch 52/100\n",
            "20/20 [==============================] - 0s 7ms/step - loss: 0.4304 - accuracy: 0.7948 - val_loss: 0.4564 - val_accuracy: 0.8052\n",
            "Epoch 53/100\n",
            "20/20 [==============================] - 0s 8ms/step - loss: 0.4308 - accuracy: 0.7899 - val_loss: 0.4565 - val_accuracy: 0.8052\n",
            "Epoch 54/100\n",
            "20/20 [==============================] - 0s 15ms/step - loss: 0.4302 - accuracy: 0.7932 - val_loss: 0.4554 - val_accuracy: 0.8052\n",
            "Epoch 55/100\n",
            "20/20 [==============================] - 0s 8ms/step - loss: 0.4293 - accuracy: 0.7899 - val_loss: 0.4561 - val_accuracy: 0.8117\n",
            "Epoch 56/100\n",
            "20/20 [==============================] - 0s 9ms/step - loss: 0.4293 - accuracy: 0.7866 - val_loss: 0.4566 - val_accuracy: 0.8052\n",
            "Epoch 57/100\n",
            "20/20 [==============================] - 0s 9ms/step - loss: 0.4292 - accuracy: 0.7948 - val_loss: 0.4576 - val_accuracy: 0.8117\n",
            "Epoch 58/100\n",
            "20/20 [==============================] - 0s 17ms/step - loss: 0.4282 - accuracy: 0.7964 - val_loss: 0.4577 - val_accuracy: 0.8052\n",
            "Epoch 59/100\n",
            "20/20 [==============================] - 0s 10ms/step - loss: 0.4285 - accuracy: 0.7948 - val_loss: 0.4570 - val_accuracy: 0.8052\n",
            "Epoch 60/100\n",
            "20/20 [==============================] - 0s 16ms/step - loss: 0.4276 - accuracy: 0.7915 - val_loss: 0.4578 - val_accuracy: 0.8117\n",
            "Epoch 61/100\n",
            "20/20 [==============================] - 0s 13ms/step - loss: 0.4276 - accuracy: 0.7915 - val_loss: 0.4583 - val_accuracy: 0.8117\n",
            "Epoch 62/100\n",
            "20/20 [==============================] - 0s 11ms/step - loss: 0.4271 - accuracy: 0.7980 - val_loss: 0.4586 - val_accuracy: 0.8052\n",
            "Epoch 63/100\n",
            "20/20 [==============================] - 0s 20ms/step - loss: 0.4268 - accuracy: 0.7899 - val_loss: 0.4585 - val_accuracy: 0.8117\n",
            "Epoch 64/100\n",
            "20/20 [==============================] - 0s 8ms/step - loss: 0.4265 - accuracy: 0.7964 - val_loss: 0.4583 - val_accuracy: 0.8117\n",
            "Epoch 65/100\n",
            "20/20 [==============================] - 0s 9ms/step - loss: 0.4261 - accuracy: 0.7899 - val_loss: 0.4589 - val_accuracy: 0.8052\n",
            "Epoch 66/100\n",
            "20/20 [==============================] - 0s 9ms/step - loss: 0.4258 - accuracy: 0.7997 - val_loss: 0.4588 - val_accuracy: 0.8052\n",
            "Epoch 67/100\n",
            "20/20 [==============================] - 0s 9ms/step - loss: 0.4258 - accuracy: 0.7948 - val_loss: 0.4580 - val_accuracy: 0.8052\n",
            "Epoch 68/100\n",
            "20/20 [==============================] - 0s 16ms/step - loss: 0.4254 - accuracy: 0.7915 - val_loss: 0.4573 - val_accuracy: 0.8052\n",
            "Epoch 69/100\n",
            "20/20 [==============================] - 0s 10ms/step - loss: 0.4247 - accuracy: 0.7997 - val_loss: 0.4568 - val_accuracy: 0.7987\n",
            "Epoch 70/100\n",
            "20/20 [==============================] - 0s 16ms/step - loss: 0.4237 - accuracy: 0.7948 - val_loss: 0.4580 - val_accuracy: 0.7987\n",
            "Epoch 71/100\n",
            "20/20 [==============================] - 0s 12ms/step - loss: 0.4240 - accuracy: 0.7964 - val_loss: 0.4581 - val_accuracy: 0.8052\n",
            "Epoch 72/100\n",
            "20/20 [==============================] - 0s 13ms/step - loss: 0.4241 - accuracy: 0.7948 - val_loss: 0.4586 - val_accuracy: 0.8052\n",
            "Epoch 73/100\n",
            "20/20 [==============================] - 0s 13ms/step - loss: 0.4231 - accuracy: 0.7980 - val_loss: 0.4580 - val_accuracy: 0.7987\n",
            "Epoch 74/100\n",
            "20/20 [==============================] - 0s 12ms/step - loss: 0.4228 - accuracy: 0.7980 - val_loss: 0.4587 - val_accuracy: 0.8117\n",
            "Epoch 75/100\n",
            "20/20 [==============================] - 1s 35ms/step - loss: 0.4227 - accuracy: 0.7915 - val_loss: 0.4585 - val_accuracy: 0.8117\n",
            "Epoch 76/100\n",
            "20/20 [==============================] - 0s 18ms/step - loss: 0.4223 - accuracy: 0.7980 - val_loss: 0.4589 - val_accuracy: 0.8117\n",
            "Epoch 77/100\n",
            "20/20 [==============================] - 0s 18ms/step - loss: 0.4217 - accuracy: 0.7948 - val_loss: 0.4596 - val_accuracy: 0.8052\n",
            "Epoch 78/100\n",
            "20/20 [==============================] - 0s 19ms/step - loss: 0.4218 - accuracy: 0.7948 - val_loss: 0.4592 - val_accuracy: 0.8117\n",
            "Epoch 79/100\n",
            "20/20 [==============================] - 0s 14ms/step - loss: 0.4214 - accuracy: 0.7932 - val_loss: 0.4583 - val_accuracy: 0.8117\n",
            "Epoch 80/100\n",
            "20/20 [==============================] - 0s 20ms/step - loss: 0.4211 - accuracy: 0.7932 - val_loss: 0.4588 - val_accuracy: 0.8117\n",
            "Epoch 81/100\n",
            "20/20 [==============================] - 0s 17ms/step - loss: 0.4204 - accuracy: 0.7964 - val_loss: 0.4587 - val_accuracy: 0.8182\n",
            "Epoch 82/100\n",
            "20/20 [==============================] - 0s 21ms/step - loss: 0.4206 - accuracy: 0.7948 - val_loss: 0.4594 - val_accuracy: 0.8117\n",
            "Epoch 83/100\n",
            "20/20 [==============================] - 0s 14ms/step - loss: 0.4200 - accuracy: 0.7948 - val_loss: 0.4590 - val_accuracy: 0.8117\n",
            "Epoch 84/100\n",
            "20/20 [==============================] - 0s 20ms/step - loss: 0.4196 - accuracy: 0.7964 - val_loss: 0.4596 - val_accuracy: 0.8117\n",
            "Epoch 85/100\n",
            "20/20 [==============================] - 0s 14ms/step - loss: 0.4198 - accuracy: 0.8013 - val_loss: 0.4599 - val_accuracy: 0.8052\n",
            "Epoch 86/100\n",
            "20/20 [==============================] - 0s 22ms/step - loss: 0.4193 - accuracy: 0.7997 - val_loss: 0.4596 - val_accuracy: 0.8117\n",
            "Epoch 87/100\n",
            "20/20 [==============================] - 0s 19ms/step - loss: 0.4191 - accuracy: 0.7964 - val_loss: 0.4591 - val_accuracy: 0.8117\n",
            "Epoch 88/100\n",
            "20/20 [==============================] - 0s 11ms/step - loss: 0.4190 - accuracy: 0.7964 - val_loss: 0.4577 - val_accuracy: 0.8117\n",
            "Epoch 89/100\n",
            "20/20 [==============================] - 0s 10ms/step - loss: 0.4187 - accuracy: 0.7948 - val_loss: 0.4588 - val_accuracy: 0.8117\n",
            "Epoch 90/100\n",
            "20/20 [==============================] - 0s 11ms/step - loss: 0.4183 - accuracy: 0.7964 - val_loss: 0.4583 - val_accuracy: 0.8117\n",
            "Epoch 91/100\n",
            "20/20 [==============================] - 0s 10ms/step - loss: 0.4176 - accuracy: 0.7980 - val_loss: 0.4584 - val_accuracy: 0.8117\n",
            "Epoch 92/100\n",
            "20/20 [==============================] - 0s 12ms/step - loss: 0.4181 - accuracy: 0.7980 - val_loss: 0.4578 - val_accuracy: 0.8052\n",
            "Epoch 93/100\n",
            "20/20 [==============================] - 0s 8ms/step - loss: 0.4175 - accuracy: 0.8062 - val_loss: 0.4564 - val_accuracy: 0.8117\n",
            "Epoch 94/100\n",
            "20/20 [==============================] - 0s 7ms/step - loss: 0.4171 - accuracy: 0.7964 - val_loss: 0.4567 - val_accuracy: 0.8052\n",
            "Epoch 95/100\n",
            "20/20 [==============================] - 0s 10ms/step - loss: 0.4170 - accuracy: 0.7997 - val_loss: 0.4573 - val_accuracy: 0.8052\n",
            "Epoch 96/100\n",
            "20/20 [==============================] - 0s 12ms/step - loss: 0.4172 - accuracy: 0.7980 - val_loss: 0.4581 - val_accuracy: 0.8117\n",
            "Epoch 97/100\n",
            "20/20 [==============================] - 0s 14ms/step - loss: 0.4163 - accuracy: 0.7997 - val_loss: 0.4591 - val_accuracy: 0.8052\n",
            "Epoch 98/100\n",
            "20/20 [==============================] - 0s 14ms/step - loss: 0.4167 - accuracy: 0.7964 - val_loss: 0.4596 - val_accuracy: 0.8052\n",
            "Epoch 99/100\n",
            "20/20 [==============================] - 0s 15ms/step - loss: 0.4160 - accuracy: 0.7964 - val_loss: 0.4579 - val_accuracy: 0.8052\n",
            "Epoch 100/100\n",
            "20/20 [==============================] - 0s 10ms/step - loss: 0.4161 - accuracy: 0.8013 - val_loss: 0.4590 - val_accuracy: 0.8052\n"
          ]
        },
        {
          "output_type": "execute_result",
          "data": {
            "text/plain": [
              "<keras.src.callbacks.History at 0x7aee7d5f14b0>"
            ]
          },
          "metadata": {},
          "execution_count": 25
        }
      ]
    },
    {
      "cell_type": "code",
      "source": [
        "#accuracy = 80%"
      ],
      "metadata": {
        "id": "aoN0WbgtOsbY"
      },
      "execution_count": null,
      "outputs": []
    },
    {
      "cell_type": "markdown",
      "source": [
        "# Hyperparameter tuning for best neurons count"
      ],
      "metadata": {
        "id": "iS4PnHIhR9JG"
      }
    },
    {
      "cell_type": "code",
      "source": [
        "# Building function\n",
        "\n",
        "def build_model(hp):\n",
        "  model = Sequential()\n",
        "\n",
        "  units = hp.Int('units',min_value=8,max_value=128) #units=any string, also can use step_size = .....\n",
        "  # to find best neuron count\n",
        "\n",
        "  model.add(Dense(units=units,activation='relu',input_dim=8))\n",
        "  model.add(Dense(1,activation='sigmoid'))\n",
        "\n",
        "  model.compile(loss='binary_crossentropy',optimizer='adam',metrics='accuracy')\n",
        "\n",
        "  return model"
      ],
      "metadata": {
        "id": "yAqKjniqRise"
      },
      "execution_count": 26,
      "outputs": []
    },
    {
      "cell_type": "code",
      "source": [
        "tuner = kt.RandomSearch(build_model,objective='val_accuracy',max_trials=5,directory='mydir',project_name='patil')\n",
        "# directory = creates a directory where a json file containing information and details about RandomSearch,\n",
        "# project_name = folder name inside directory is where details of this particular code snippet will be included"
      ],
      "metadata": {
        "id": "HDlKoGDNSmQ1"
      },
      "execution_count": 27,
      "outputs": []
    },
    {
      "cell_type": "code",
      "source": [
        "# If used directory and project_name this code is not required\n",
        "# import os\n",
        "\n",
        "# if os.path.exists('./untitled_project/tuner0.json'):\n",
        "#   os.remove('./untitled_project/tuner0.json')  # Remove tuner state file\n"
      ],
      "metadata": {
        "id": "jQ6V5RKoS5Wv"
      },
      "execution_count": 28,
      "outputs": []
    },
    {
      "cell_type": "code",
      "source": [
        "# Searching best hyperparameters\n",
        "tuner.search(x_train,y_train,epochs=5,validation_data=(x_test,y_test))"
      ],
      "metadata": {
        "colab": {
          "base_uri": "https://localhost:8080/"
        },
        "id": "SsslHfOiTHDw",
        "outputId": "dcc13f8a-4c78-46dd-9508-4d511d0c5b87"
      },
      "execution_count": 29,
      "outputs": [
        {
          "output_type": "stream",
          "name": "stdout",
          "text": [
            "Trial 5 Complete [00h 00m 02s]\n",
            "val_accuracy: 0.7857142686843872\n",
            "\n",
            "Best val_accuracy So Far: 0.8051947951316833\n",
            "Total elapsed time: 00h 00m 20s\n"
          ]
        }
      ]
    },
    {
      "cell_type": "code",
      "source": [
        "# Best hyperparameters\n",
        "tuner.get_best_hyperparameters()[0].values"
      ],
      "metadata": {
        "colab": {
          "base_uri": "https://localhost:8080/"
        },
        "id": "2Facn0YPTWiU",
        "outputId": "d412814f-11f8-4832-fbd1-98b07edb0581"
      },
      "execution_count": 30,
      "outputs": [
        {
          "output_type": "execute_result",
          "data": {
            "text/plain": [
              "{'units': 85}"
            ]
          },
          "metadata": {},
          "execution_count": 30
        }
      ]
    },
    {
      "cell_type": "code",
      "source": [
        "# Beat model\n",
        "model = tuner.get_best_models(num_models=1)[0]"
      ],
      "metadata": {
        "id": "b2qCSpSEVgv7"
      },
      "execution_count": 31,
      "outputs": []
    },
    {
      "cell_type": "code",
      "source": [
        "# MOdel fitting on more epochs\n",
        "model.fit(x_train,y_train,batch_size=32,epochs=100,initial_epoch=6)"
      ],
      "metadata": {
        "colab": {
          "base_uri": "https://localhost:8080/"
        },
        "id": "KYlkLMgzVoaz",
        "outputId": "10604c3f-06a7-450d-b053-1fbbbff46836"
      },
      "execution_count": 32,
      "outputs": [
        {
          "output_type": "stream",
          "name": "stdout",
          "text": [
            "Epoch 7/100\n",
            "20/20 [==============================] - 1s 3ms/step - loss: 0.4827 - accuracy: 0.7736\n",
            "Epoch 8/100\n",
            "20/20 [==============================] - 0s 3ms/step - loss: 0.4738 - accuracy: 0.7785\n",
            "Epoch 9/100\n",
            "20/20 [==============================] - 0s 4ms/step - loss: 0.4678 - accuracy: 0.7736\n",
            "Epoch 10/100\n",
            "20/20 [==============================] - 0s 6ms/step - loss: 0.4634 - accuracy: 0.7769\n",
            "Epoch 11/100\n",
            "20/20 [==============================] - 0s 5ms/step - loss: 0.4597 - accuracy: 0.7785\n",
            "Epoch 12/100\n",
            "20/20 [==============================] - 0s 4ms/step - loss: 0.4570 - accuracy: 0.7834\n",
            "Epoch 13/100\n",
            "20/20 [==============================] - 0s 4ms/step - loss: 0.4559 - accuracy: 0.7801\n",
            "Epoch 14/100\n",
            "20/20 [==============================] - 0s 4ms/step - loss: 0.4521 - accuracy: 0.7866\n",
            "Epoch 15/100\n",
            "20/20 [==============================] - 0s 4ms/step - loss: 0.4509 - accuracy: 0.7834\n",
            "Epoch 16/100\n",
            "20/20 [==============================] - 0s 4ms/step - loss: 0.4494 - accuracy: 0.7818\n",
            "Epoch 17/100\n",
            "20/20 [==============================] - 0s 4ms/step - loss: 0.4478 - accuracy: 0.7818\n",
            "Epoch 18/100\n",
            "20/20 [==============================] - 0s 4ms/step - loss: 0.4473 - accuracy: 0.7834\n",
            "Epoch 19/100\n",
            "20/20 [==============================] - 0s 3ms/step - loss: 0.4465 - accuracy: 0.7899\n",
            "Epoch 20/100\n",
            "20/20 [==============================] - 0s 4ms/step - loss: 0.4442 - accuracy: 0.7899\n",
            "Epoch 21/100\n",
            "20/20 [==============================] - 0s 4ms/step - loss: 0.4436 - accuracy: 0.7834\n",
            "Epoch 22/100\n",
            "20/20 [==============================] - 0s 3ms/step - loss: 0.4429 - accuracy: 0.7866\n",
            "Epoch 23/100\n",
            "20/20 [==============================] - 0s 3ms/step - loss: 0.4424 - accuracy: 0.7850\n",
            "Epoch 24/100\n",
            "20/20 [==============================] - 0s 4ms/step - loss: 0.4404 - accuracy: 0.7866\n",
            "Epoch 25/100\n",
            "20/20 [==============================] - 0s 5ms/step - loss: 0.4390 - accuracy: 0.7899\n",
            "Epoch 26/100\n",
            "20/20 [==============================] - 0s 4ms/step - loss: 0.4382 - accuracy: 0.7899\n",
            "Epoch 27/100\n",
            "20/20 [==============================] - 0s 4ms/step - loss: 0.4371 - accuracy: 0.7850\n",
            "Epoch 28/100\n",
            "20/20 [==============================] - 0s 4ms/step - loss: 0.4355 - accuracy: 0.7850\n",
            "Epoch 29/100\n",
            "20/20 [==============================] - 0s 5ms/step - loss: 0.4364 - accuracy: 0.7883\n",
            "Epoch 30/100\n",
            "20/20 [==============================] - 0s 5ms/step - loss: 0.4338 - accuracy: 0.7850\n",
            "Epoch 31/100\n",
            "20/20 [==============================] - 0s 19ms/step - loss: 0.4333 - accuracy: 0.7850\n",
            "Epoch 32/100\n",
            "20/20 [==============================] - 0s 10ms/step - loss: 0.4330 - accuracy: 0.7899\n",
            "Epoch 33/100\n",
            "20/20 [==============================] - 0s 4ms/step - loss: 0.4319 - accuracy: 0.7883\n",
            "Epoch 34/100\n",
            "20/20 [==============================] - 0s 4ms/step - loss: 0.4310 - accuracy: 0.7850\n",
            "Epoch 35/100\n",
            "20/20 [==============================] - 0s 4ms/step - loss: 0.4305 - accuracy: 0.7850\n",
            "Epoch 36/100\n",
            "20/20 [==============================] - 0s 4ms/step - loss: 0.4297 - accuracy: 0.7932\n",
            "Epoch 37/100\n",
            "20/20 [==============================] - 0s 4ms/step - loss: 0.4291 - accuracy: 0.7883\n",
            "Epoch 38/100\n",
            "20/20 [==============================] - 0s 5ms/step - loss: 0.4277 - accuracy: 0.7883\n",
            "Epoch 39/100\n",
            "20/20 [==============================] - 0s 4ms/step - loss: 0.4271 - accuracy: 0.7850\n",
            "Epoch 40/100\n",
            "20/20 [==============================] - 0s 5ms/step - loss: 0.4260 - accuracy: 0.7899\n",
            "Epoch 41/100\n",
            "20/20 [==============================] - 0s 4ms/step - loss: 0.4256 - accuracy: 0.7915\n",
            "Epoch 42/100\n",
            "20/20 [==============================] - 0s 4ms/step - loss: 0.4244 - accuracy: 0.7948\n",
            "Epoch 43/100\n",
            "20/20 [==============================] - 0s 6ms/step - loss: 0.4237 - accuracy: 0.7964\n",
            "Epoch 44/100\n",
            "20/20 [==============================] - 0s 5ms/step - loss: 0.4229 - accuracy: 0.7899\n",
            "Epoch 45/100\n",
            "20/20 [==============================] - 0s 5ms/step - loss: 0.4228 - accuracy: 0.7915\n",
            "Epoch 46/100\n",
            "20/20 [==============================] - 0s 5ms/step - loss: 0.4222 - accuracy: 0.7899\n",
            "Epoch 47/100\n",
            "20/20 [==============================] - 0s 5ms/step - loss: 0.4219 - accuracy: 0.7899\n",
            "Epoch 48/100\n",
            "20/20 [==============================] - 0s 5ms/step - loss: 0.4212 - accuracy: 0.7980\n",
            "Epoch 49/100\n",
            "20/20 [==============================] - 0s 5ms/step - loss: 0.4199 - accuracy: 0.7964\n",
            "Epoch 50/100\n",
            "20/20 [==============================] - 0s 4ms/step - loss: 0.4187 - accuracy: 0.7948\n",
            "Epoch 51/100\n",
            "20/20 [==============================] - 0s 4ms/step - loss: 0.4181 - accuracy: 0.7932\n",
            "Epoch 52/100\n",
            "20/20 [==============================] - 0s 5ms/step - loss: 0.4177 - accuracy: 0.8013\n",
            "Epoch 53/100\n",
            "20/20 [==============================] - 0s 6ms/step - loss: 0.4179 - accuracy: 0.7997\n",
            "Epoch 54/100\n",
            "20/20 [==============================] - 0s 5ms/step - loss: 0.4165 - accuracy: 0.7948\n",
            "Epoch 55/100\n",
            "20/20 [==============================] - 0s 6ms/step - loss: 0.4161 - accuracy: 0.7948\n",
            "Epoch 56/100\n",
            "20/20 [==============================] - 0s 5ms/step - loss: 0.4160 - accuracy: 0.8078\n",
            "Epoch 57/100\n",
            "20/20 [==============================] - 0s 4ms/step - loss: 0.4147 - accuracy: 0.8029\n",
            "Epoch 58/100\n",
            "20/20 [==============================] - 0s 3ms/step - loss: 0.4148 - accuracy: 0.8046\n",
            "Epoch 59/100\n",
            "20/20 [==============================] - 0s 2ms/step - loss: 0.4143 - accuracy: 0.8046\n",
            "Epoch 60/100\n",
            "20/20 [==============================] - 0s 2ms/step - loss: 0.4147 - accuracy: 0.8094\n",
            "Epoch 61/100\n",
            "20/20 [==============================] - 0s 3ms/step - loss: 0.4128 - accuracy: 0.8046\n",
            "Epoch 62/100\n",
            "20/20 [==============================] - 0s 3ms/step - loss: 0.4118 - accuracy: 0.8062\n",
            "Epoch 63/100\n",
            "20/20 [==============================] - 0s 4ms/step - loss: 0.4127 - accuracy: 0.8062\n",
            "Epoch 64/100\n",
            "20/20 [==============================] - 0s 3ms/step - loss: 0.4097 - accuracy: 0.8111\n",
            "Epoch 65/100\n",
            "20/20 [==============================] - 0s 4ms/step - loss: 0.4101 - accuracy: 0.8046\n",
            "Epoch 66/100\n",
            "20/20 [==============================] - 0s 2ms/step - loss: 0.4096 - accuracy: 0.8078\n",
            "Epoch 67/100\n",
            "20/20 [==============================] - 0s 3ms/step - loss: 0.4095 - accuracy: 0.8062\n",
            "Epoch 68/100\n",
            "20/20 [==============================] - 0s 3ms/step - loss: 0.4078 - accuracy: 0.8094\n",
            "Epoch 69/100\n",
            "20/20 [==============================] - 0s 3ms/step - loss: 0.4084 - accuracy: 0.8094\n",
            "Epoch 70/100\n",
            "20/20 [==============================] - 0s 3ms/step - loss: 0.4075 - accuracy: 0.8094\n",
            "Epoch 71/100\n",
            "20/20 [==============================] - 0s 3ms/step - loss: 0.4070 - accuracy: 0.8046\n",
            "Epoch 72/100\n",
            "20/20 [==============================] - 0s 2ms/step - loss: 0.4064 - accuracy: 0.8078\n",
            "Epoch 73/100\n",
            "20/20 [==============================] - 0s 3ms/step - loss: 0.4059 - accuracy: 0.8127\n",
            "Epoch 74/100\n",
            "20/20 [==============================] - 0s 3ms/step - loss: 0.4053 - accuracy: 0.8225\n",
            "Epoch 75/100\n",
            "20/20 [==============================] - 0s 3ms/step - loss: 0.4044 - accuracy: 0.8160\n",
            "Epoch 76/100\n",
            "20/20 [==============================] - 0s 3ms/step - loss: 0.4049 - accuracy: 0.8208\n",
            "Epoch 77/100\n",
            "20/20 [==============================] - 0s 3ms/step - loss: 0.4043 - accuracy: 0.8127\n",
            "Epoch 78/100\n",
            "20/20 [==============================] - 0s 2ms/step - loss: 0.4028 - accuracy: 0.8160\n",
            "Epoch 79/100\n",
            "20/20 [==============================] - 0s 3ms/step - loss: 0.4025 - accuracy: 0.8176\n",
            "Epoch 80/100\n",
            "20/20 [==============================] - 0s 4ms/step - loss: 0.4020 - accuracy: 0.8192\n",
            "Epoch 81/100\n",
            "20/20 [==============================] - 0s 3ms/step - loss: 0.4016 - accuracy: 0.8192\n",
            "Epoch 82/100\n",
            "20/20 [==============================] - 0s 3ms/step - loss: 0.4000 - accuracy: 0.8176\n",
            "Epoch 83/100\n",
            "20/20 [==============================] - 0s 3ms/step - loss: 0.4008 - accuracy: 0.8176\n",
            "Epoch 84/100\n",
            "20/20 [==============================] - 0s 2ms/step - loss: 0.4002 - accuracy: 0.8176\n",
            "Epoch 85/100\n",
            "20/20 [==============================] - 0s 2ms/step - loss: 0.3997 - accuracy: 0.8208\n",
            "Epoch 86/100\n",
            "20/20 [==============================] - 0s 3ms/step - loss: 0.3987 - accuracy: 0.8192\n",
            "Epoch 87/100\n",
            "20/20 [==============================] - 0s 3ms/step - loss: 0.3986 - accuracy: 0.8241\n",
            "Epoch 88/100\n",
            "20/20 [==============================] - 0s 3ms/step - loss: 0.3988 - accuracy: 0.8208\n",
            "Epoch 89/100\n",
            "20/20 [==============================] - 0s 2ms/step - loss: 0.4000 - accuracy: 0.8160\n",
            "Epoch 90/100\n",
            "20/20 [==============================] - 0s 2ms/step - loss: 0.3977 - accuracy: 0.8176\n",
            "Epoch 91/100\n",
            "20/20 [==============================] - 0s 3ms/step - loss: 0.3967 - accuracy: 0.8176\n",
            "Epoch 92/100\n",
            "20/20 [==============================] - 0s 3ms/step - loss: 0.3968 - accuracy: 0.8257\n",
            "Epoch 93/100\n",
            "20/20 [==============================] - 0s 2ms/step - loss: 0.3957 - accuracy: 0.8290\n",
            "Epoch 94/100\n",
            "20/20 [==============================] - 0s 3ms/step - loss: 0.3955 - accuracy: 0.8241\n",
            "Epoch 95/100\n",
            "20/20 [==============================] - 0s 2ms/step - loss: 0.3952 - accuracy: 0.8192\n",
            "Epoch 96/100\n",
            "20/20 [==============================] - 0s 4ms/step - loss: 0.3943 - accuracy: 0.8257\n",
            "Epoch 97/100\n",
            "20/20 [==============================] - 0s 4ms/step - loss: 0.3955 - accuracy: 0.8290\n",
            "Epoch 98/100\n",
            "20/20 [==============================] - 0s 3ms/step - loss: 0.3943 - accuracy: 0.8225\n",
            "Epoch 99/100\n",
            "20/20 [==============================] - 0s 3ms/step - loss: 0.3944 - accuracy: 0.8257\n",
            "Epoch 100/100\n",
            "20/20 [==============================] - 0s 2ms/step - loss: 0.3927 - accuracy: 0.8274\n"
          ]
        },
        {
          "output_type": "execute_result",
          "data": {
            "text/plain": [
              "<keras.src.callbacks.History at 0x7aee7d3efee0>"
            ]
          },
          "metadata": {},
          "execution_count": 32
        }
      ]
    },
    {
      "cell_type": "code",
      "source": [
        "# 82 % accuracy"
      ],
      "metadata": {
        "id": "QAa6xbTxJUJe"
      },
      "execution_count": 33,
      "outputs": []
    },
    {
      "cell_type": "markdown",
      "source": [
        "# How to select no. of layers"
      ],
      "metadata": {
        "id": "7sBr9uNKWQwu"
      }
    },
    {
      "cell_type": "code",
      "source": [
        "def build_model(hp):\n",
        "  model = Sequential()\n",
        "\n",
        "  model.add(Dense(61,activation='relu',input_dim=8)) #To avoid complexity creating a layer with input. 61 = best no. of neurons we found above\n",
        "\n",
        "  # Below code is to find best no. of layers\n",
        "  for i in range(hp.Int('layers',min_value=1,max_value=10)): # Using for loop to find best no. of layers in range of 1-10\n",
        "    model.add(Dense(61,activation='relu'))# 61 = best no. of neurons we found above\n",
        "\n",
        "  model.add(Dense(1,activation='sigmoid'))\n",
        "\n",
        "  model.compile(optimizer='adam',loss='binary_crossentropy',metrics='accuracy')\n",
        "\n",
        "  return model"
      ],
      "metadata": {
        "id": "KnS29HHcWTgD"
      },
      "execution_count": 35,
      "outputs": []
    },
    {
      "cell_type": "code",
      "source": [
        "# tuner object\n",
        "tuner = kt.RandomSearch(build_model,objective='val_accuracy',max_trials=3,directory='mydir',project_name='layers')"
      ],
      "metadata": {
        "id": "fLviBJ29XqbO"
      },
      "execution_count": 36,
      "outputs": []
    },
    {
      "cell_type": "code",
      "source": [
        "# Searching\n",
        "tuner.search(x_train,y_train,epochs=5,validation_data=(x_test,y_test))"
      ],
      "metadata": {
        "colab": {
          "base_uri": "https://localhost:8080/"
        },
        "id": "lvTVdJGfX5tW",
        "outputId": "e23bec39-c6b7-4deb-abb8-a238bb39cb8a"
      },
      "execution_count": 37,
      "outputs": [
        {
          "output_type": "stream",
          "name": "stdout",
          "text": [
            "Trial 3 Complete [00h 00m 05s]\n",
            "val_accuracy: 0.7857142686843872\n",
            "\n",
            "Best val_accuracy So Far: 0.8181818127632141\n",
            "Total elapsed time: 00h 00m 15s\n"
          ]
        }
      ]
    },
    {
      "cell_type": "code",
      "source": [
        "# Fetching best hyperparameters\n",
        "tuner.get_best_hyperparameters()[0].values"
      ],
      "metadata": {
        "colab": {
          "base_uri": "https://localhost:8080/"
        },
        "id": "rgxEjQ7rYCsk",
        "outputId": "f853556d-6579-4570-d716-6d9d39ac617f"
      },
      "execution_count": 38,
      "outputs": [
        {
          "output_type": "execute_result",
          "data": {
            "text/plain": [
              "{'layers': 5}"
            ]
          },
          "metadata": {},
          "execution_count": 38
        }
      ]
    },
    {
      "cell_type": "code",
      "source": [
        "# fetching best model\n",
        "model = tuner.get_best_models(num_models=1)[0]"
      ],
      "metadata": {
        "id": "YucZSwN6YIO9"
      },
      "execution_count": 39,
      "outputs": []
    },
    {
      "cell_type": "code",
      "source": [
        "# fitting model\n",
        "model.fit(x_train,y_train,epochs=100,initial_epoch=6,validation_data=(x_test,y_test))"
      ],
      "metadata": {
        "colab": {
          "base_uri": "https://localhost:8080/"
        },
        "id": "nfiaG6duYXsT",
        "outputId": "23f9cb54-a300-4af2-c13d-6f04a14b916b"
      },
      "execution_count": 40,
      "outputs": [
        {
          "output_type": "stream",
          "name": "stdout",
          "text": [
            "Epoch 7/100\n",
            "20/20 [==============================] - 7s 66ms/step - loss: 0.4255 - accuracy: 0.7769 - val_loss: 0.4713 - val_accuracy: 0.7857\n",
            "Epoch 8/100\n",
            "20/20 [==============================] - 0s 16ms/step - loss: 0.4108 - accuracy: 0.7997 - val_loss: 0.4515 - val_accuracy: 0.8052\n",
            "Epoch 9/100\n",
            "20/20 [==============================] - 0s 15ms/step - loss: 0.4021 - accuracy: 0.8176 - val_loss: 0.4541 - val_accuracy: 0.8052\n",
            "Epoch 10/100\n",
            "20/20 [==============================] - 0s 15ms/step - loss: 0.3820 - accuracy: 0.8322 - val_loss: 0.4528 - val_accuracy: 0.8052\n",
            "Epoch 11/100\n",
            "20/20 [==============================] - 0s 13ms/step - loss: 0.3807 - accuracy: 0.8241 - val_loss: 0.4508 - val_accuracy: 0.8117\n",
            "Epoch 12/100\n",
            "20/20 [==============================] - 0s 17ms/step - loss: 0.3690 - accuracy: 0.8257 - val_loss: 0.4652 - val_accuracy: 0.8117\n",
            "Epoch 13/100\n",
            "20/20 [==============================] - 0s 13ms/step - loss: 0.3608 - accuracy: 0.8534 - val_loss: 0.4671 - val_accuracy: 0.7922\n",
            "Epoch 14/100\n",
            "20/20 [==============================] - 0s 11ms/step - loss: 0.3529 - accuracy: 0.8420 - val_loss: 0.4674 - val_accuracy: 0.8052\n",
            "Epoch 15/100\n",
            "20/20 [==============================] - 0s 13ms/step - loss: 0.3295 - accuracy: 0.8762 - val_loss: 0.4628 - val_accuracy: 0.8182\n",
            "Epoch 16/100\n",
            "20/20 [==============================] - 0s 14ms/step - loss: 0.3130 - accuracy: 0.8827 - val_loss: 0.5129 - val_accuracy: 0.7987\n",
            "Epoch 17/100\n",
            "20/20 [==============================] - 1s 37ms/step - loss: 0.3017 - accuracy: 0.8762 - val_loss: 0.5202 - val_accuracy: 0.7792\n",
            "Epoch 18/100\n",
            "20/20 [==============================] - 0s 13ms/step - loss: 0.2926 - accuracy: 0.8844 - val_loss: 0.5470 - val_accuracy: 0.7662\n",
            "Epoch 19/100\n",
            "20/20 [==============================] - 0s 12ms/step - loss: 0.2983 - accuracy: 0.8811 - val_loss: 0.5286 - val_accuracy: 0.7987\n",
            "Epoch 20/100\n",
            "20/20 [==============================] - 0s 13ms/step - loss: 0.2805 - accuracy: 0.9007 - val_loss: 0.5514 - val_accuracy: 0.7792\n",
            "Epoch 21/100\n",
            "20/20 [==============================] - 0s 19ms/step - loss: 0.2507 - accuracy: 0.8958 - val_loss: 0.5941 - val_accuracy: 0.7727\n",
            "Epoch 22/100\n",
            "20/20 [==============================] - 0s 15ms/step - loss: 0.2259 - accuracy: 0.9072 - val_loss: 0.5708 - val_accuracy: 0.7727\n",
            "Epoch 23/100\n",
            "20/20 [==============================] - 0s 13ms/step - loss: 0.2450 - accuracy: 0.8958 - val_loss: 0.6645 - val_accuracy: 0.7662\n",
            "Epoch 24/100\n",
            "20/20 [==============================] - 0s 6ms/step - loss: 0.2029 - accuracy: 0.9283 - val_loss: 0.6548 - val_accuracy: 0.7532\n",
            "Epoch 25/100\n",
            "20/20 [==============================] - 0s 17ms/step - loss: 0.1885 - accuracy: 0.9300 - val_loss: 0.7236 - val_accuracy: 0.7273\n",
            "Epoch 26/100\n",
            "20/20 [==============================] - 0s 16ms/step - loss: 0.1838 - accuracy: 0.9349 - val_loss: 0.7620 - val_accuracy: 0.7597\n",
            "Epoch 27/100\n",
            "20/20 [==============================] - 0s 24ms/step - loss: 0.1682 - accuracy: 0.9365 - val_loss: 0.7490 - val_accuracy: 0.7208\n",
            "Epoch 28/100\n",
            "20/20 [==============================] - 0s 9ms/step - loss: 0.1761 - accuracy: 0.9414 - val_loss: 0.8880 - val_accuracy: 0.7922\n",
            "Epoch 29/100\n",
            "20/20 [==============================] - 0s 14ms/step - loss: 0.1783 - accuracy: 0.9267 - val_loss: 0.7777 - val_accuracy: 0.7468\n",
            "Epoch 30/100\n",
            "20/20 [==============================] - 0s 13ms/step - loss: 0.1410 - accuracy: 0.9544 - val_loss: 0.7035 - val_accuracy: 0.7597\n",
            "Epoch 31/100\n",
            "20/20 [==============================] - 0s 10ms/step - loss: 0.1027 - accuracy: 0.9691 - val_loss: 0.9278 - val_accuracy: 0.7403\n",
            "Epoch 32/100\n",
            "20/20 [==============================] - 0s 17ms/step - loss: 0.0983 - accuracy: 0.9609 - val_loss: 0.9170 - val_accuracy: 0.7532\n",
            "Epoch 33/100\n",
            "20/20 [==============================] - 0s 18ms/step - loss: 0.0852 - accuracy: 0.9691 - val_loss: 0.9934 - val_accuracy: 0.7403\n",
            "Epoch 34/100\n",
            "20/20 [==============================] - 0s 10ms/step - loss: 0.0725 - accuracy: 0.9739 - val_loss: 1.0315 - val_accuracy: 0.7597\n",
            "Epoch 35/100\n",
            "20/20 [==============================] - 0s 7ms/step - loss: 0.1585 - accuracy: 0.9397 - val_loss: 0.9342 - val_accuracy: 0.7468\n",
            "Epoch 36/100\n",
            "20/20 [==============================] - 0s 17ms/step - loss: 0.1304 - accuracy: 0.9609 - val_loss: 0.9823 - val_accuracy: 0.7792\n",
            "Epoch 37/100\n",
            "20/20 [==============================] - 0s 17ms/step - loss: 0.1324 - accuracy: 0.9528 - val_loss: 0.8844 - val_accuracy: 0.7792\n",
            "Epoch 38/100\n",
            "20/20 [==============================] - 0s 21ms/step - loss: 0.0793 - accuracy: 0.9691 - val_loss: 0.9673 - val_accuracy: 0.7597\n",
            "Epoch 39/100\n",
            "20/20 [==============================] - 0s 19ms/step - loss: 0.0968 - accuracy: 0.9577 - val_loss: 1.0988 - val_accuracy: 0.7338\n",
            "Epoch 40/100\n",
            "20/20 [==============================] - 1s 26ms/step - loss: 0.1235 - accuracy: 0.9593 - val_loss: 0.8419 - val_accuracy: 0.7597\n",
            "Epoch 41/100\n",
            "20/20 [==============================] - 1s 33ms/step - loss: 0.0866 - accuracy: 0.9772 - val_loss: 1.0688 - val_accuracy: 0.7597\n",
            "Epoch 42/100\n",
            "20/20 [==============================] - 1s 30ms/step - loss: 0.1495 - accuracy: 0.9463 - val_loss: 0.9476 - val_accuracy: 0.7468\n",
            "Epoch 43/100\n",
            "20/20 [==============================] - 1s 27ms/step - loss: 0.1407 - accuracy: 0.9593 - val_loss: 0.8697 - val_accuracy: 0.7597\n",
            "Epoch 44/100\n",
            "20/20 [==============================] - 1s 34ms/step - loss: 0.0900 - accuracy: 0.9707 - val_loss: 0.9073 - val_accuracy: 0.7468\n",
            "Epoch 45/100\n",
            "20/20 [==============================] - 1s 33ms/step - loss: 0.0572 - accuracy: 0.9821 - val_loss: 1.1111 - val_accuracy: 0.7208\n",
            "Epoch 46/100\n",
            "20/20 [==============================] - 0s 24ms/step - loss: 0.0640 - accuracy: 0.9756 - val_loss: 1.0815 - val_accuracy: 0.7727\n",
            "Epoch 47/100\n",
            "20/20 [==============================] - 0s 15ms/step - loss: 0.1315 - accuracy: 0.9495 - val_loss: 1.0655 - val_accuracy: 0.7532\n",
            "Epoch 48/100\n",
            "20/20 [==============================] - 0s 17ms/step - loss: 0.0649 - accuracy: 0.9756 - val_loss: 0.9783 - val_accuracy: 0.7662\n",
            "Epoch 49/100\n",
            "20/20 [==============================] - 0s 24ms/step - loss: 0.0429 - accuracy: 0.9870 - val_loss: 1.1514 - val_accuracy: 0.7403\n",
            "Epoch 50/100\n",
            "20/20 [==============================] - 0s 11ms/step - loss: 0.0368 - accuracy: 0.9886 - val_loss: 1.1622 - val_accuracy: 0.7338\n",
            "Epoch 51/100\n",
            "20/20 [==============================] - 0s 15ms/step - loss: 0.0178 - accuracy: 0.9984 - val_loss: 1.2179 - val_accuracy: 0.7532\n",
            "Epoch 52/100\n",
            "20/20 [==============================] - 0s 12ms/step - loss: 0.0140 - accuracy: 0.9967 - val_loss: 1.3044 - val_accuracy: 0.7597\n",
            "Epoch 53/100\n",
            "20/20 [==============================] - 0s 11ms/step - loss: 0.0087 - accuracy: 1.0000 - val_loss: 1.3642 - val_accuracy: 0.7273\n",
            "Epoch 54/100\n",
            "20/20 [==============================] - 0s 12ms/step - loss: 0.0083 - accuracy: 0.9984 - val_loss: 1.4240 - val_accuracy: 0.7597\n",
            "Epoch 55/100\n",
            "20/20 [==============================] - 0s 15ms/step - loss: 0.0077 - accuracy: 1.0000 - val_loss: 1.3886 - val_accuracy: 0.7468\n",
            "Epoch 56/100\n",
            "20/20 [==============================] - 0s 10ms/step - loss: 0.0048 - accuracy: 1.0000 - val_loss: 1.4466 - val_accuracy: 0.7403\n",
            "Epoch 57/100\n",
            "20/20 [==============================] - 0s 12ms/step - loss: 0.0032 - accuracy: 1.0000 - val_loss: 1.4718 - val_accuracy: 0.7468\n",
            "Epoch 58/100\n",
            "20/20 [==============================] - 0s 18ms/step - loss: 0.0028 - accuracy: 1.0000 - val_loss: 1.5156 - val_accuracy: 0.7403\n",
            "Epoch 59/100\n",
            "20/20 [==============================] - 0s 21ms/step - loss: 0.0023 - accuracy: 1.0000 - val_loss: 1.5424 - val_accuracy: 0.7468\n",
            "Epoch 60/100\n",
            "20/20 [==============================] - 0s 18ms/step - loss: 0.0020 - accuracy: 1.0000 - val_loss: 1.5724 - val_accuracy: 0.7403\n",
            "Epoch 61/100\n",
            "20/20 [==============================] - 0s 8ms/step - loss: 0.0018 - accuracy: 1.0000 - val_loss: 1.5912 - val_accuracy: 0.7468\n",
            "Epoch 62/100\n",
            "20/20 [==============================] - 0s 9ms/step - loss: 0.0017 - accuracy: 1.0000 - val_loss: 1.6190 - val_accuracy: 0.7403\n",
            "Epoch 63/100\n",
            "20/20 [==============================] - 0s 6ms/step - loss: 0.0015 - accuracy: 1.0000 - val_loss: 1.6425 - val_accuracy: 0.7403\n",
            "Epoch 64/100\n",
            "20/20 [==============================] - 0s 6ms/step - loss: 0.0014 - accuracy: 1.0000 - val_loss: 1.6652 - val_accuracy: 0.7403\n",
            "Epoch 65/100\n",
            "20/20 [==============================] - 0s 5ms/step - loss: 0.0014 - accuracy: 1.0000 - val_loss: 1.6838 - val_accuracy: 0.7338\n",
            "Epoch 66/100\n",
            "20/20 [==============================] - 0s 5ms/step - loss: 0.0012 - accuracy: 1.0000 - val_loss: 1.7000 - val_accuracy: 0.7403\n",
            "Epoch 67/100\n",
            "20/20 [==============================] - 0s 6ms/step - loss: 0.0010 - accuracy: 1.0000 - val_loss: 1.7197 - val_accuracy: 0.7403\n",
            "Epoch 68/100\n",
            "20/20 [==============================] - 0s 7ms/step - loss: 9.7471e-04 - accuracy: 1.0000 - val_loss: 1.7359 - val_accuracy: 0.7338\n",
            "Epoch 69/100\n",
            "20/20 [==============================] - 0s 5ms/step - loss: 0.0011 - accuracy: 1.0000 - val_loss: 1.7573 - val_accuracy: 0.7338\n",
            "Epoch 70/100\n",
            "20/20 [==============================] - 0s 5ms/step - loss: 8.4157e-04 - accuracy: 1.0000 - val_loss: 1.7699 - val_accuracy: 0.7338\n",
            "Epoch 71/100\n",
            "20/20 [==============================] - 0s 7ms/step - loss: 9.2283e-04 - accuracy: 1.0000 - val_loss: 1.7872 - val_accuracy: 0.7338\n",
            "Epoch 72/100\n",
            "20/20 [==============================] - 0s 5ms/step - loss: 7.7548e-04 - accuracy: 1.0000 - val_loss: 1.8081 - val_accuracy: 0.7403\n",
            "Epoch 73/100\n",
            "20/20 [==============================] - 0s 5ms/step - loss: 6.8962e-04 - accuracy: 1.0000 - val_loss: 1.8217 - val_accuracy: 0.7403\n",
            "Epoch 74/100\n",
            "20/20 [==============================] - 0s 6ms/step - loss: 6.5553e-04 - accuracy: 1.0000 - val_loss: 1.8329 - val_accuracy: 0.7403\n",
            "Epoch 75/100\n",
            "20/20 [==============================] - 0s 6ms/step - loss: 6.0485e-04 - accuracy: 1.0000 - val_loss: 1.8504 - val_accuracy: 0.7403\n",
            "Epoch 76/100\n",
            "20/20 [==============================] - 0s 6ms/step - loss: 5.8830e-04 - accuracy: 1.0000 - val_loss: 1.8634 - val_accuracy: 0.7403\n",
            "Epoch 77/100\n",
            "20/20 [==============================] - 0s 5ms/step - loss: 5.5154e-04 - accuracy: 1.0000 - val_loss: 1.8750 - val_accuracy: 0.7403\n",
            "Epoch 78/100\n",
            "20/20 [==============================] - 0s 5ms/step - loss: 5.3664e-04 - accuracy: 1.0000 - val_loss: 1.8857 - val_accuracy: 0.7338\n",
            "Epoch 79/100\n",
            "20/20 [==============================] - 0s 7ms/step - loss: 5.0735e-04 - accuracy: 1.0000 - val_loss: 1.9009 - val_accuracy: 0.7403\n",
            "Epoch 80/100\n",
            "20/20 [==============================] - 0s 6ms/step - loss: 4.8456e-04 - accuracy: 1.0000 - val_loss: 1.9082 - val_accuracy: 0.7403\n",
            "Epoch 81/100\n",
            "20/20 [==============================] - 0s 6ms/step - loss: 4.6539e-04 - accuracy: 1.0000 - val_loss: 1.9218 - val_accuracy: 0.7403\n",
            "Epoch 82/100\n",
            "20/20 [==============================] - 0s 5ms/step - loss: 4.3224e-04 - accuracy: 1.0000 - val_loss: 1.9286 - val_accuracy: 0.7403\n",
            "Epoch 83/100\n",
            "20/20 [==============================] - 0s 5ms/step - loss: 4.1743e-04 - accuracy: 1.0000 - val_loss: 1.9395 - val_accuracy: 0.7403\n",
            "Epoch 84/100\n",
            "20/20 [==============================] - 0s 5ms/step - loss: 4.0016e-04 - accuracy: 1.0000 - val_loss: 1.9517 - val_accuracy: 0.7403\n",
            "Epoch 85/100\n",
            "20/20 [==============================] - 0s 5ms/step - loss: 3.8544e-04 - accuracy: 1.0000 - val_loss: 1.9614 - val_accuracy: 0.7403\n",
            "Epoch 86/100\n",
            "20/20 [==============================] - 0s 5ms/step - loss: 3.8069e-04 - accuracy: 1.0000 - val_loss: 1.9728 - val_accuracy: 0.7403\n",
            "Epoch 87/100\n",
            "20/20 [==============================] - 0s 6ms/step - loss: 3.5287e-04 - accuracy: 1.0000 - val_loss: 1.9821 - val_accuracy: 0.7403\n",
            "Epoch 88/100\n",
            "20/20 [==============================] - 0s 6ms/step - loss: 3.3736e-04 - accuracy: 1.0000 - val_loss: 1.9950 - val_accuracy: 0.7403\n",
            "Epoch 89/100\n",
            "20/20 [==============================] - 0s 7ms/step - loss: 3.2646e-04 - accuracy: 1.0000 - val_loss: 2.0031 - val_accuracy: 0.7403\n",
            "Epoch 90/100\n",
            "20/20 [==============================] - 0s 7ms/step - loss: 3.1168e-04 - accuracy: 1.0000 - val_loss: 2.0101 - val_accuracy: 0.7403\n",
            "Epoch 91/100\n",
            "20/20 [==============================] - 0s 6ms/step - loss: 2.9892e-04 - accuracy: 1.0000 - val_loss: 2.0176 - val_accuracy: 0.7403\n",
            "Epoch 92/100\n",
            "20/20 [==============================] - 0s 7ms/step - loss: 3.0036e-04 - accuracy: 1.0000 - val_loss: 2.0260 - val_accuracy: 0.7403\n",
            "Epoch 93/100\n",
            "20/20 [==============================] - 0s 7ms/step - loss: 2.9669e-04 - accuracy: 1.0000 - val_loss: 2.0330 - val_accuracy: 0.7403\n",
            "Epoch 94/100\n",
            "20/20 [==============================] - 0s 6ms/step - loss: 2.7871e-04 - accuracy: 1.0000 - val_loss: 2.0412 - val_accuracy: 0.7403\n",
            "Epoch 95/100\n",
            "20/20 [==============================] - 0s 7ms/step - loss: 2.6217e-04 - accuracy: 1.0000 - val_loss: 2.0508 - val_accuracy: 0.7403\n",
            "Epoch 96/100\n",
            "20/20 [==============================] - 0s 7ms/step - loss: 2.5406e-04 - accuracy: 1.0000 - val_loss: 2.0605 - val_accuracy: 0.7403\n",
            "Epoch 97/100\n",
            "20/20 [==============================] - 0s 7ms/step - loss: 2.4450e-04 - accuracy: 1.0000 - val_loss: 2.0683 - val_accuracy: 0.7403\n",
            "Epoch 98/100\n",
            "20/20 [==============================] - 0s 7ms/step - loss: 2.3637e-04 - accuracy: 1.0000 - val_loss: 2.0771 - val_accuracy: 0.7403\n",
            "Epoch 99/100\n",
            "20/20 [==============================] - 0s 11ms/step - loss: 2.3494e-04 - accuracy: 1.0000 - val_loss: 2.0849 - val_accuracy: 0.7403\n",
            "Epoch 100/100\n",
            "20/20 [==============================] - 0s 9ms/step - loss: 2.1815e-04 - accuracy: 1.0000 - val_loss: 2.0923 - val_accuracy: 0.7403\n"
          ]
        },
        {
          "output_type": "execute_result",
          "data": {
            "text/plain": [
              "<keras.src.callbacks.History at 0x7aee7d3a2620>"
            ]
          },
          "metadata": {},
          "execution_count": 40
        }
      ]
    },
    {
      "cell_type": "code",
      "source": [
        "# Accuracy = 74%"
      ],
      "metadata": {
        "id": "IWLhI3ENKgVs"
      },
      "execution_count": 41,
      "outputs": []
    },
    {
      "cell_type": "markdown",
      "source": [
        "# All hyperparameters tuning at once."
      ],
      "metadata": {
        "id": "xwIqWcvzYn9H"
      }
    },
    {
      "cell_type": "code",
      "source": [
        "# Building function\n",
        "\n",
        "def build_model(hp):\n",
        "  model = Sequential()\n",
        "  counter = 0\n",
        "\n",
        "  for i in range(hp.Int('num_layers',min_value=1,max_value=10)):\n",
        "    if counter == 0:\n",
        "      model.add(\n",
        "          Dense(\n",
        "              hp.Int('units'+str(i),min_value=8,max_value=128,step=8), # + str(i) to change name everytime in every iteration\n",
        "              activation=hp.Choice('activation' + str(i),values=['relu','tanh','sigmoid']),# To find best activation\n",
        "              input_dim=8\n",
        "              )\n",
        "      )\n",
        "      model.add(\n",
        "          Dropout(\n",
        "              hp.Choice('dropout'+str(i) ,values=[0.1,0.2,0.3,0.4,0.5,0.6,0.7,0.8,0.9]) #+ str(i) to change name everytime in every iteration\n",
        "          )\n",
        "      )\n",
        "\n",
        "    else:\n",
        "      model.add(\n",
        "          Dense(\n",
        "              hp.Int('units'+str(i),min_value=8,max_value=128,step=8), #+ str(i) to change name everytime in every iteration\n",
        "              activation=hp.Choice('activation' + str(i),values=['relu','tanh','sigmoid']),\n",
        "              )\n",
        "          )\n",
        "      model.add(\n",
        "          Dropout(\n",
        "              hp.Choice('dropout'+str(i) ,values=[0.1,0.2,0.3,0.4,0.5,0.6,0.7,0.8,0.9]) #+ str(i) to change name everytime in every iteration\n",
        "          )\n",
        "      )\n",
        "    counter+=1\n",
        "\n",
        "\n",
        "  model.add(Dense(1,activation='sigmoid'))\n",
        "  model.compile(optimizer=hp.Choice('optimizer',values=['adam','rmsprop','sgd','adadelta']),loss='binary_crossentropy',metrics='accuracy')\n",
        "  # Finding best optimizer above\n",
        "\n",
        "  return model\n"
      ],
      "metadata": {
        "id": "Pcl0QjqqYiff"
      },
      "execution_count": 42,
      "outputs": []
    },
    {
      "cell_type": "code",
      "source": [
        "# Tuner object\n",
        "tuner = kt.RandomSearch(build_model,objective='val_accuracy',max_trials=3,directory='mydir',project_name='done')"
      ],
      "metadata": {
        "id": "UPV6nPs_bbhb"
      },
      "execution_count": 43,
      "outputs": []
    },
    {
      "cell_type": "code",
      "source": [
        "# searching\n",
        "tuner.search(x_train,y_train,epochs=10,validation_data=(x_test,y_test))"
      ],
      "metadata": {
        "colab": {
          "base_uri": "https://localhost:8080/"
        },
        "id": "axwEO0T7btfj",
        "outputId": "9eada4d1-ccc9-4507-ef43-22f76f029a84"
      },
      "execution_count": 44,
      "outputs": [
        {
          "output_type": "stream",
          "name": "stdout",
          "text": [
            "Trial 3 Complete [00h 00m 05s]\n",
            "val_accuracy: 0.6428571343421936\n",
            "\n",
            "Best val_accuracy So Far: 0.798701286315918\n",
            "Total elapsed time: 00h 00m 13s\n"
          ]
        }
      ]
    },
    {
      "cell_type": "code",
      "source": [
        "#fetching best hyperparameter\n",
        "tuner.get_best_hyperparameters()[0].values"
      ],
      "metadata": {
        "colab": {
          "base_uri": "https://localhost:8080/"
        },
        "id": "6vFjJdXbb3Vn",
        "outputId": "8733401f-d8a1-4b6f-9347-449ef51ff74f"
      },
      "execution_count": 45,
      "outputs": [
        {
          "output_type": "execute_result",
          "data": {
            "text/plain": [
              "{'num_layers': 5,\n",
              " 'units0': 72,\n",
              " 'activation0': 'relu',\n",
              " 'dropout0': 0.1,\n",
              " 'optimizer': 'adam',\n",
              " 'units1': 8,\n",
              " 'activation1': 'relu',\n",
              " 'dropout1': 0.1,\n",
              " 'units2': 8,\n",
              " 'activation2': 'relu',\n",
              " 'dropout2': 0.1,\n",
              " 'units3': 8,\n",
              " 'activation3': 'relu',\n",
              " 'dropout3': 0.1,\n",
              " 'units4': 8,\n",
              " 'activation4': 'relu',\n",
              " 'dropout4': 0.1}"
            ]
          },
          "metadata": {},
          "execution_count": 45
        }
      ]
    },
    {
      "cell_type": "code",
      "source": [
        "# Fetching best model\n",
        "model = tuner.get_best_models(num_models=1)[0]"
      ],
      "metadata": {
        "id": "Iz4dEsIabNEI"
      },
      "execution_count": 46,
      "outputs": []
    },
    {
      "cell_type": "code",
      "source": [
        "# Fitting model\n",
        "model.fit(x_train,y_train,epochs=100,initial_epoch=5,validation_data=(x_test,y_test))"
      ],
      "metadata": {
        "colab": {
          "base_uri": "https://localhost:8080/"
        },
        "id": "k4Is0LYvdgdq",
        "outputId": "43a80c98-6dbf-45be-f4bc-ed49f1cb740b"
      },
      "execution_count": 47,
      "outputs": [
        {
          "output_type": "stream",
          "name": "stdout",
          "text": [
            "Epoch 6/100\n",
            "20/20 [==============================] - 2s 19ms/step - loss: 0.5301 - accuracy: 0.7524 - val_loss: 0.4833 - val_accuracy: 0.7922\n",
            "Epoch 7/100\n",
            "20/20 [==============================] - 0s 7ms/step - loss: 0.5238 - accuracy: 0.7590 - val_loss: 0.4838 - val_accuracy: 0.7792\n",
            "Epoch 8/100\n",
            "20/20 [==============================] - 0s 5ms/step - loss: 0.5151 - accuracy: 0.7508 - val_loss: 0.4814 - val_accuracy: 0.7987\n",
            "Epoch 9/100\n",
            "20/20 [==============================] - 0s 6ms/step - loss: 0.5336 - accuracy: 0.7427 - val_loss: 0.4812 - val_accuracy: 0.7727\n",
            "Epoch 10/100\n",
            "20/20 [==============================] - 0s 7ms/step - loss: 0.5000 - accuracy: 0.7557 - val_loss: 0.4804 - val_accuracy: 0.7727\n",
            "Epoch 11/100\n",
            "20/20 [==============================] - 0s 5ms/step - loss: 0.5282 - accuracy: 0.7362 - val_loss: 0.4807 - val_accuracy: 0.7727\n",
            "Epoch 12/100\n",
            "20/20 [==============================] - 0s 5ms/step - loss: 0.4883 - accuracy: 0.7720 - val_loss: 0.4792 - val_accuracy: 0.7792\n",
            "Epoch 13/100\n",
            "20/20 [==============================] - 0s 5ms/step - loss: 0.4967 - accuracy: 0.7785 - val_loss: 0.4743 - val_accuracy: 0.7792\n",
            "Epoch 14/100\n",
            "20/20 [==============================] - 0s 5ms/step - loss: 0.5016 - accuracy: 0.7720 - val_loss: 0.4744 - val_accuracy: 0.7662\n",
            "Epoch 15/100\n",
            "20/20 [==============================] - 0s 5ms/step - loss: 0.4848 - accuracy: 0.7687 - val_loss: 0.4759 - val_accuracy: 0.7727\n",
            "Epoch 16/100\n",
            "20/20 [==============================] - 0s 5ms/step - loss: 0.5144 - accuracy: 0.7508 - val_loss: 0.4814 - val_accuracy: 0.7662\n",
            "Epoch 17/100\n",
            "20/20 [==============================] - 0s 7ms/step - loss: 0.4991 - accuracy: 0.7769 - val_loss: 0.4791 - val_accuracy: 0.7727\n",
            "Epoch 18/100\n",
            "20/20 [==============================] - 0s 6ms/step - loss: 0.4947 - accuracy: 0.7785 - val_loss: 0.4771 - val_accuracy: 0.7727\n",
            "Epoch 19/100\n",
            "20/20 [==============================] - 0s 7ms/step - loss: 0.4928 - accuracy: 0.7606 - val_loss: 0.4771 - val_accuracy: 0.7792\n",
            "Epoch 20/100\n",
            "20/20 [==============================] - 0s 7ms/step - loss: 0.4791 - accuracy: 0.7638 - val_loss: 0.4763 - val_accuracy: 0.7727\n",
            "Epoch 21/100\n",
            "20/20 [==============================] - 0s 7ms/step - loss: 0.4789 - accuracy: 0.7736 - val_loss: 0.4804 - val_accuracy: 0.7727\n",
            "Epoch 22/100\n",
            "20/20 [==============================] - 0s 6ms/step - loss: 0.4863 - accuracy: 0.7671 - val_loss: 0.4793 - val_accuracy: 0.7662\n",
            "Epoch 23/100\n",
            "20/20 [==============================] - 0s 6ms/step - loss: 0.4964 - accuracy: 0.7932 - val_loss: 0.4809 - val_accuracy: 0.7727\n",
            "Epoch 24/100\n",
            "20/20 [==============================] - 0s 6ms/step - loss: 0.4824 - accuracy: 0.7834 - val_loss: 0.4779 - val_accuracy: 0.7792\n",
            "Epoch 25/100\n",
            "20/20 [==============================] - 0s 4ms/step - loss: 0.4755 - accuracy: 0.7834 - val_loss: 0.4781 - val_accuracy: 0.7792\n",
            "Epoch 26/100\n",
            "20/20 [==============================] - 0s 6ms/step - loss: 0.4819 - accuracy: 0.7883 - val_loss: 0.4796 - val_accuracy: 0.7727\n",
            "Epoch 27/100\n",
            "20/20 [==============================] - 0s 6ms/step - loss: 0.4906 - accuracy: 0.7769 - val_loss: 0.4803 - val_accuracy: 0.7727\n",
            "Epoch 28/100\n",
            "20/20 [==============================] - 0s 4ms/step - loss: 0.4809 - accuracy: 0.7801 - val_loss: 0.4778 - val_accuracy: 0.7987\n",
            "Epoch 29/100\n",
            "20/20 [==============================] - 0s 5ms/step - loss: 0.4786 - accuracy: 0.7883 - val_loss: 0.4780 - val_accuracy: 0.7922\n",
            "Epoch 30/100\n",
            "20/20 [==============================] - 0s 5ms/step - loss: 0.4541 - accuracy: 0.8013 - val_loss: 0.4823 - val_accuracy: 0.7792\n",
            "Epoch 31/100\n",
            "20/20 [==============================] - 0s 5ms/step - loss: 0.4695 - accuracy: 0.7866 - val_loss: 0.4833 - val_accuracy: 0.7662\n",
            "Epoch 32/100\n",
            "20/20 [==============================] - 0s 5ms/step - loss: 0.4602 - accuracy: 0.7850 - val_loss: 0.4786 - val_accuracy: 0.7792\n",
            "Epoch 33/100\n",
            "20/20 [==============================] - 0s 5ms/step - loss: 0.4841 - accuracy: 0.7818 - val_loss: 0.4815 - val_accuracy: 0.7857\n",
            "Epoch 34/100\n",
            "20/20 [==============================] - 0s 5ms/step - loss: 0.4688 - accuracy: 0.7752 - val_loss: 0.4792 - val_accuracy: 0.7792\n",
            "Epoch 35/100\n",
            "20/20 [==============================] - 0s 5ms/step - loss: 0.4665 - accuracy: 0.7883 - val_loss: 0.4827 - val_accuracy: 0.7857\n",
            "Epoch 36/100\n",
            "20/20 [==============================] - 0s 6ms/step - loss: 0.4575 - accuracy: 0.7883 - val_loss: 0.4844 - val_accuracy: 0.7792\n",
            "Epoch 37/100\n",
            "20/20 [==============================] - 0s 6ms/step - loss: 0.4600 - accuracy: 0.8062 - val_loss: 0.4849 - val_accuracy: 0.7662\n",
            "Epoch 38/100\n",
            "20/20 [==============================] - 0s 6ms/step - loss: 0.4680 - accuracy: 0.7883 - val_loss: 0.4884 - val_accuracy: 0.7727\n",
            "Epoch 39/100\n",
            "20/20 [==============================] - 0s 5ms/step - loss: 0.4597 - accuracy: 0.7736 - val_loss: 0.4879 - val_accuracy: 0.7727\n",
            "Epoch 40/100\n",
            "20/20 [==============================] - 0s 5ms/step - loss: 0.4551 - accuracy: 0.7932 - val_loss: 0.4888 - val_accuracy: 0.7857\n",
            "Epoch 41/100\n",
            "20/20 [==============================] - 0s 6ms/step - loss: 0.4724 - accuracy: 0.7687 - val_loss: 0.4891 - val_accuracy: 0.7792\n",
            "Epoch 42/100\n",
            "20/20 [==============================] - 0s 6ms/step - loss: 0.4728 - accuracy: 0.7736 - val_loss: 0.4839 - val_accuracy: 0.7922\n",
            "Epoch 43/100\n",
            "20/20 [==============================] - 0s 7ms/step - loss: 0.4605 - accuracy: 0.7915 - val_loss: 0.4824 - val_accuracy: 0.7922\n",
            "Epoch 44/100\n",
            "20/20 [==============================] - 0s 7ms/step - loss: 0.4504 - accuracy: 0.8111 - val_loss: 0.4792 - val_accuracy: 0.7857\n",
            "Epoch 45/100\n",
            "20/20 [==============================] - 0s 6ms/step - loss: 0.4587 - accuracy: 0.7801 - val_loss: 0.4804 - val_accuracy: 0.7922\n",
            "Epoch 46/100\n",
            "20/20 [==============================] - 0s 6ms/step - loss: 0.4544 - accuracy: 0.7997 - val_loss: 0.4850 - val_accuracy: 0.7792\n",
            "Epoch 47/100\n",
            "20/20 [==============================] - 0s 6ms/step - loss: 0.4465 - accuracy: 0.7915 - val_loss: 0.4848 - val_accuracy: 0.7857\n",
            "Epoch 48/100\n",
            "20/20 [==============================] - 0s 7ms/step - loss: 0.4451 - accuracy: 0.7915 - val_loss: 0.4857 - val_accuracy: 0.7922\n",
            "Epoch 49/100\n",
            "20/20 [==============================] - 0s 6ms/step - loss: 0.4368 - accuracy: 0.7980 - val_loss: 0.4877 - val_accuracy: 0.7987\n",
            "Epoch 50/100\n",
            "20/20 [==============================] - 0s 5ms/step - loss: 0.4650 - accuracy: 0.7899 - val_loss: 0.4876 - val_accuracy: 0.7987\n",
            "Epoch 51/100\n",
            "20/20 [==============================] - 0s 5ms/step - loss: 0.4435 - accuracy: 0.7948 - val_loss: 0.4861 - val_accuracy: 0.7922\n",
            "Epoch 52/100\n",
            "20/20 [==============================] - 0s 6ms/step - loss: 0.4462 - accuracy: 0.7964 - val_loss: 0.4871 - val_accuracy: 0.7727\n",
            "Epoch 53/100\n",
            "20/20 [==============================] - 0s 5ms/step - loss: 0.4256 - accuracy: 0.8127 - val_loss: 0.4867 - val_accuracy: 0.7792\n",
            "Epoch 54/100\n",
            "20/20 [==============================] - 0s 5ms/step - loss: 0.4398 - accuracy: 0.8029 - val_loss: 0.4870 - val_accuracy: 0.7857\n",
            "Epoch 55/100\n",
            "20/20 [==============================] - 0s 6ms/step - loss: 0.4177 - accuracy: 0.8208 - val_loss: 0.4857 - val_accuracy: 0.7857\n",
            "Epoch 56/100\n",
            "20/20 [==============================] - 0s 6ms/step - loss: 0.4252 - accuracy: 0.8062 - val_loss: 0.4904 - val_accuracy: 0.7922\n",
            "Epoch 57/100\n",
            "20/20 [==============================] - 0s 5ms/step - loss: 0.4286 - accuracy: 0.8160 - val_loss: 0.4908 - val_accuracy: 0.7922\n",
            "Epoch 58/100\n",
            "20/20 [==============================] - 0s 6ms/step - loss: 0.4368 - accuracy: 0.8306 - val_loss: 0.4945 - val_accuracy: 0.7922\n",
            "Epoch 59/100\n",
            "20/20 [==============================] - 0s 6ms/step - loss: 0.4349 - accuracy: 0.8111 - val_loss: 0.4910 - val_accuracy: 0.7857\n",
            "Epoch 60/100\n",
            "20/20 [==============================] - 0s 7ms/step - loss: 0.4330 - accuracy: 0.8160 - val_loss: 0.4860 - val_accuracy: 0.7857\n",
            "Epoch 61/100\n",
            "20/20 [==============================] - 0s 7ms/step - loss: 0.4363 - accuracy: 0.8013 - val_loss: 0.4798 - val_accuracy: 0.7922\n",
            "Epoch 62/100\n",
            "20/20 [==============================] - 0s 7ms/step - loss: 0.4261 - accuracy: 0.8176 - val_loss: 0.4875 - val_accuracy: 0.7727\n",
            "Epoch 63/100\n",
            "20/20 [==============================] - 0s 6ms/step - loss: 0.4235 - accuracy: 0.7997 - val_loss: 0.4883 - val_accuracy: 0.7792\n",
            "Epoch 64/100\n",
            "20/20 [==============================] - 0s 6ms/step - loss: 0.4291 - accuracy: 0.8160 - val_loss: 0.4904 - val_accuracy: 0.7857\n",
            "Epoch 65/100\n",
            "20/20 [==============================] - 0s 6ms/step - loss: 0.4281 - accuracy: 0.8176 - val_loss: 0.4991 - val_accuracy: 0.7727\n",
            "Epoch 66/100\n",
            "20/20 [==============================] - 0s 6ms/step - loss: 0.4044 - accuracy: 0.8241 - val_loss: 0.4999 - val_accuracy: 0.7792\n",
            "Epoch 67/100\n",
            "20/20 [==============================] - 0s 6ms/step - loss: 0.4387 - accuracy: 0.8160 - val_loss: 0.4996 - val_accuracy: 0.7857\n",
            "Epoch 68/100\n",
            "20/20 [==============================] - 0s 8ms/step - loss: 0.4244 - accuracy: 0.8078 - val_loss: 0.4993 - val_accuracy: 0.7792\n",
            "Epoch 69/100\n",
            "20/20 [==============================] - 0s 6ms/step - loss: 0.4177 - accuracy: 0.8062 - val_loss: 0.4983 - val_accuracy: 0.7857\n",
            "Epoch 70/100\n",
            "20/20 [==============================] - 0s 6ms/step - loss: 0.4021 - accuracy: 0.8274 - val_loss: 0.4996 - val_accuracy: 0.7922\n",
            "Epoch 71/100\n",
            "20/20 [==============================] - 0s 6ms/step - loss: 0.4252 - accuracy: 0.8176 - val_loss: 0.4990 - val_accuracy: 0.7857\n",
            "Epoch 72/100\n",
            "20/20 [==============================] - 0s 12ms/step - loss: 0.4167 - accuracy: 0.8290 - val_loss: 0.4968 - val_accuracy: 0.7857\n",
            "Epoch 73/100\n",
            "20/20 [==============================] - 0s 10ms/step - loss: 0.4082 - accuracy: 0.8339 - val_loss: 0.4964 - val_accuracy: 0.7922\n",
            "Epoch 74/100\n",
            "20/20 [==============================] - 0s 11ms/step - loss: 0.4165 - accuracy: 0.8111 - val_loss: 0.5012 - val_accuracy: 0.7792\n",
            "Epoch 75/100\n",
            "20/20 [==============================] - 0s 9ms/step - loss: 0.4231 - accuracy: 0.8143 - val_loss: 0.4999 - val_accuracy: 0.7792\n",
            "Epoch 76/100\n",
            "20/20 [==============================] - 0s 11ms/step - loss: 0.4178 - accuracy: 0.8127 - val_loss: 0.4979 - val_accuracy: 0.7922\n",
            "Epoch 77/100\n",
            "20/20 [==============================] - 0s 10ms/step - loss: 0.4109 - accuracy: 0.8339 - val_loss: 0.4946 - val_accuracy: 0.7792\n",
            "Epoch 78/100\n",
            "20/20 [==============================] - 0s 9ms/step - loss: 0.4198 - accuracy: 0.8192 - val_loss: 0.4942 - val_accuracy: 0.7792\n",
            "Epoch 79/100\n",
            "20/20 [==============================] - 0s 13ms/step - loss: 0.3980 - accuracy: 0.8306 - val_loss: 0.4915 - val_accuracy: 0.7792\n",
            "Epoch 80/100\n",
            "20/20 [==============================] - 0s 10ms/step - loss: 0.4139 - accuracy: 0.8290 - val_loss: 0.4975 - val_accuracy: 0.7922\n",
            "Epoch 81/100\n",
            "20/20 [==============================] - 0s 11ms/step - loss: 0.4140 - accuracy: 0.8322 - val_loss: 0.4969 - val_accuracy: 0.7857\n",
            "Epoch 82/100\n",
            "20/20 [==============================] - 0s 10ms/step - loss: 0.4091 - accuracy: 0.8388 - val_loss: 0.4924 - val_accuracy: 0.7792\n",
            "Epoch 83/100\n",
            "20/20 [==============================] - 0s 10ms/step - loss: 0.4155 - accuracy: 0.8176 - val_loss: 0.4929 - val_accuracy: 0.7792\n",
            "Epoch 84/100\n",
            "20/20 [==============================] - 0s 11ms/step - loss: 0.4142 - accuracy: 0.8160 - val_loss: 0.4906 - val_accuracy: 0.7857\n",
            "Epoch 85/100\n",
            "20/20 [==============================] - 0s 10ms/step - loss: 0.4274 - accuracy: 0.7932 - val_loss: 0.4920 - val_accuracy: 0.7922\n",
            "Epoch 86/100\n",
            "20/20 [==============================] - 0s 10ms/step - loss: 0.4190 - accuracy: 0.8111 - val_loss: 0.4979 - val_accuracy: 0.7987\n",
            "Epoch 87/100\n",
            "20/20 [==============================] - 0s 10ms/step - loss: 0.3886 - accuracy: 0.8290 - val_loss: 0.5010 - val_accuracy: 0.7987\n",
            "Epoch 88/100\n",
            "20/20 [==============================] - 0s 10ms/step - loss: 0.4013 - accuracy: 0.8241 - val_loss: 0.4991 - val_accuracy: 0.7922\n",
            "Epoch 89/100\n",
            "20/20 [==============================] - 0s 13ms/step - loss: 0.3864 - accuracy: 0.8371 - val_loss: 0.4938 - val_accuracy: 0.8052\n",
            "Epoch 90/100\n",
            "20/20 [==============================] - 0s 11ms/step - loss: 0.4232 - accuracy: 0.8176 - val_loss: 0.5033 - val_accuracy: 0.7922\n",
            "Epoch 91/100\n",
            "20/20 [==============================] - 0s 11ms/step - loss: 0.3917 - accuracy: 0.8355 - val_loss: 0.5062 - val_accuracy: 0.7922\n",
            "Epoch 92/100\n",
            "20/20 [==============================] - 0s 6ms/step - loss: 0.4007 - accuracy: 0.8257 - val_loss: 0.5035 - val_accuracy: 0.7922\n",
            "Epoch 93/100\n",
            "20/20 [==============================] - 0s 7ms/step - loss: 0.4099 - accuracy: 0.8306 - val_loss: 0.4996 - val_accuracy: 0.7792\n",
            "Epoch 94/100\n",
            "20/20 [==============================] - 0s 8ms/step - loss: 0.4001 - accuracy: 0.8436 - val_loss: 0.4981 - val_accuracy: 0.7792\n",
            "Epoch 95/100\n",
            "20/20 [==============================] - 0s 6ms/step - loss: 0.4003 - accuracy: 0.8290 - val_loss: 0.4929 - val_accuracy: 0.7792\n",
            "Epoch 96/100\n",
            "20/20 [==============================] - 0s 7ms/step - loss: 0.3962 - accuracy: 0.8436 - val_loss: 0.4944 - val_accuracy: 0.7857\n",
            "Epoch 97/100\n",
            "20/20 [==============================] - 0s 8ms/step - loss: 0.3824 - accuracy: 0.8339 - val_loss: 0.4966 - val_accuracy: 0.7792\n",
            "Epoch 98/100\n",
            "20/20 [==============================] - 0s 7ms/step - loss: 0.3853 - accuracy: 0.8322 - val_loss: 0.4937 - val_accuracy: 0.7987\n",
            "Epoch 99/100\n",
            "20/20 [==============================] - 0s 7ms/step - loss: 0.3967 - accuracy: 0.8225 - val_loss: 0.4974 - val_accuracy: 0.7987\n",
            "Epoch 100/100\n",
            "20/20 [==============================] - 0s 7ms/step - loss: 0.3748 - accuracy: 0.8436 - val_loss: 0.5037 - val_accuracy: 0.7922\n"
          ]
        },
        {
          "output_type": "execute_result",
          "data": {
            "text/plain": [
              "<keras.src.callbacks.History at 0x7aee7c952530>"
            ]
          },
          "metadata": {},
          "execution_count": 47
        }
      ]
    },
    {
      "cell_type": "code",
      "source": [
        "#accuracy= 79%"
      ],
      "metadata": {
        "id": "xGHdsuZEOn2a"
      },
      "execution_count": null,
      "outputs": []
    }
  ]
}