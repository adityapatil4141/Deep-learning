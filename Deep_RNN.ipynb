{
  "nbformat": 4,
  "nbformat_minor": 0,
  "metadata": {
    "colab": {
      "provenance": [],
      "authorship_tag": "ABX9TyOefaLrUM5WhMiFnX38Raaz",
      "include_colab_link": true
    },
    "kernelspec": {
      "name": "python3",
      "display_name": "Python 3"
    },
    "language_info": {
      "name": "python"
    }
  },
  "cells": [
    {
      "cell_type": "markdown",
      "metadata": {
        "id": "view-in-github",
        "colab_type": "text"
      },
      "source": [
        "<a href=\"https://colab.research.google.com/github/adityapatil4141/Deep-learning/blob/main/Deep_RNN.ipynb\" target=\"_parent\"><img src=\"https://colab.research.google.com/assets/colab-badge.svg\" alt=\"Open In Colab\"/></a>"
      ]
    },
    {
      "cell_type": "markdown",
      "source": [
        "#SimpleRNN"
      ],
      "metadata": {
        "id": "LtZuHcKmfv23"
      }
    },
    {
      "cell_type": "code",
      "execution_count": 14,
      "metadata": {
        "id": "LlWMDheDc9Cj"
      },
      "outputs": [],
      "source": [
        "import tensorflow\n",
        "from tensorflow import keras\n",
        "from keras.datasets import imdb\n",
        "from keras.preprocessing.sequence import pad_sequences\n",
        "from keras.models import Sequential\n",
        "from keras.layers import Embedding,SimpleRNN, Dense,LSTM,GRU"
      ]
    },
    {
      "cell_type": "code",
      "source": [
        "(x_train,y_train),(x_test,y_test) = imdb.load_data(num_words=10000)\n",
        "\n",
        "x_train = pad_sequences(x_train,maxlen=100)\n",
        "x_test = pad_sequences(x_test,maxlen=100)"
      ],
      "metadata": {
        "id": "42QjwmM6dk4u"
      },
      "execution_count": 15,
      "outputs": []
    },
    {
      "cell_type": "code",
      "source": [
        "model = Sequential([\n",
        "    Embedding(10000,32,input_length=100), #embedding layer to convert words into vectors, 100000=input words, 32=32 nos dimension vector in output\n",
        "    SimpleRNN(5,return_sequences=True), #RNN layer with 5 units, We have to keep return_sequences True for all simpleRNN layers except last layer\n",
        "    SimpleRNN(5), # Another RNN layer with 5 units\n",
        "    Dense(1,activation='sigmoid') #Output layer for binary classification]\n",
        "])\n",
        "\n",
        "model.summary()"
      ],
      "metadata": {
        "colab": {
          "base_uri": "https://localhost:8080/"
        },
        "id": "3mgeifn6eJR-",
        "outputId": "54206ea8-3650-4417-ff49-18e8e6cfcd49"
      },
      "execution_count": 16,
      "outputs": [
        {
          "output_type": "stream",
          "name": "stdout",
          "text": [
            "Model: \"sequential_2\"\n",
            "_________________________________________________________________\n",
            " Layer (type)                Output Shape              Param #   \n",
            "=================================================================\n",
            " embedding_4 (Embedding)     (None, 100, 32)           320000    \n",
            "                                                                 \n",
            " simple_rnn_4 (SimpleRNN)    (None, 100, 5)            190       \n",
            "                                                                 \n",
            " simple_rnn_5 (SimpleRNN)    (None, 5)                 55        \n",
            "                                                                 \n",
            " dense_2 (Dense)             (None, 1)                 6         \n",
            "                                                                 \n",
            "=================================================================\n",
            "Total params: 320251 (1.22 MB)\n",
            "Trainable params: 320251 (1.22 MB)\n",
            "Non-trainable params: 0 (0.00 Byte)\n",
            "_________________________________________________________________\n"
          ]
        }
      ]
    },
    {
      "cell_type": "code",
      "source": [],
      "metadata": {
        "id": "e51QSnLDfK9P"
      },
      "execution_count": 16,
      "outputs": []
    },
    {
      "cell_type": "markdown",
      "source": [
        "#Deep RNN"
      ],
      "metadata": {
        "id": "oM0YPkTyfyFE"
      }
    },
    {
      "cell_type": "code",
      "source": [
        "model = Sequential([\n",
        "    Embedding(10000,32,input_length=100),\n",
        "    LSTM(5,return_sequences=True),\n",
        "    LSTM(5),\n",
        "    Dense(1,activation='sigmoid')\n",
        "])\n",
        "\n",
        "model.summary()"
      ],
      "metadata": {
        "colab": {
          "base_uri": "https://localhost:8080/"
        },
        "id": "hevVyU97fz3x",
        "outputId": "6ab74aa5-b3be-42da-ab2a-dbfa880e058f"
      },
      "execution_count": 19,
      "outputs": [
        {
          "output_type": "stream",
          "name": "stdout",
          "text": [
            "Model: \"sequential_5\"\n",
            "_________________________________________________________________\n",
            " Layer (type)                Output Shape              Param #   \n",
            "=================================================================\n",
            " embedding_7 (Embedding)     (None, 100, 32)           320000    \n",
            "                                                                 \n",
            " lstm_6 (LSTM)               (None, 100, 5)            760       \n",
            "                                                                 \n",
            " lstm_7 (LSTM)               (None, 5)                 220       \n",
            "                                                                 \n",
            " dense_5 (Dense)             (None, 1)                 6         \n",
            "                                                                 \n",
            "=================================================================\n",
            "Total params: 320986 (1.22 MB)\n",
            "Trainable params: 320986 (1.22 MB)\n",
            "Non-trainable params: 0 (0.00 Byte)\n",
            "_________________________________________________________________\n"
          ]
        }
      ]
    },
    {
      "cell_type": "markdown",
      "source": [
        "#GRU"
      ],
      "metadata": {
        "id": "E4kuq-4ugeIh"
      }
    },
    {
      "cell_type": "code",
      "source": [
        "model = Sequential([\n",
        "    Embedding(10000,32,input_length=100),\n",
        "    GRU(5,return_sequences=True),\n",
        "    GRU(5),\n",
        "    Dense(1,activation='sigmoid')\n",
        "])"
      ],
      "metadata": {
        "id": "QBUD5OOtgfI0"
      },
      "execution_count": 20,
      "outputs": []
    },
    {
      "cell_type": "code",
      "source": [
        "model.summary()"
      ],
      "metadata": {
        "colab": {
          "base_uri": "https://localhost:8080/"
        },
        "id": "xG4xZs2lgTMR",
        "outputId": "06746fd9-651f-445c-f65d-5b09fce3da7e"
      },
      "execution_count": 21,
      "outputs": [
        {
          "output_type": "stream",
          "name": "stdout",
          "text": [
            "Model: \"sequential_6\"\n",
            "_________________________________________________________________\n",
            " Layer (type)                Output Shape              Param #   \n",
            "=================================================================\n",
            " embedding_8 (Embedding)     (None, 100, 32)           320000    \n",
            "                                                                 \n",
            " gru (GRU)                   (None, 100, 5)            585       \n",
            "                                                                 \n",
            " gru_1 (GRU)                 (None, 5)                 180       \n",
            "                                                                 \n",
            " dense_6 (Dense)             (None, 1)                 6         \n",
            "                                                                 \n",
            "=================================================================\n",
            "Total params: 320771 (1.22 MB)\n",
            "Trainable params: 320771 (1.22 MB)\n",
            "Non-trainable params: 0 (0.00 Byte)\n",
            "_________________________________________________________________\n"
          ]
        }
      ]
    }
  ]
}